{
  "cells": [
    {
      "cell_type": "code",
      "execution_count": null,
      "metadata": {
        "id": "3CjSpDDJaRjy"
      },
      "outputs": [],
      "source": [
        "from numpy import concatenate\n",
        "from pandas import read_excel\n",
        "from pandas import DataFrame\n",
        "import pandas as pd\n",
        "from pandas import concat\n",
        "from sklearn.preprocessing import LabelEncoder\n",
        "from keras.models import Sequential\n",
        "from keras.layers import Dense\n",
        "from keras.layers import GRU\n",
        "import numpy as np\n",
        "import matplotlib.pyplot as plt\n",
        "from google.colab import drive\n",
        "import plotly.graph_objects as go\n"
      ]
    },
    {
      "cell_type": "markdown",
      "metadata": {},
      "source": [
        "Accessing drive"
      ]
    },
    {
      "cell_type": "code",
      "execution_count": null,
      "metadata": {
        "colab": {
          "base_uri": "https://localhost:8080/"
        },
        "id": "ozIbJSgCbU-S",
        "outputId": "e005caf7-1687-4eeb-afbd-e94c05791ee2"
      },
      "outputs": [
        {
          "name": "stdout",
          "output_type": "stream",
          "text": [
            "Mounted at /content/drive\n"
          ]
        }
      ],
      "source": [
        "drive.mount('/content/drive')"
      ]
    },
    {
      "cell_type": "markdown",
      "metadata": {},
      "source": [
        "Reading data from the excel file"
      ]
    },
    {
      "cell_type": "code",
      "execution_count": null,
      "metadata": {
        "id": "MqKto7rZbmRR"
      },
      "outputs": [],
      "source": [
        "dfr = read_excel(r'/content/drive/My Drive/CMIE_PROJECT/panel.xlsx', sheet_name='mainpanel')"
      ]
    },
    {
      "cell_type": "markdown",
      "metadata": {},
      "source": [
        "Dropping irrelevant variables"
      ]
    },
    {
      "cell_type": "code",
      "execution_count": null,
      "metadata": {
        "id": "KzUwqfCRcLz2"
      },
      "outputs": [],
      "source": [
        "dfr = dfr.drop(columns=['Total assets','Net fixed assets','Export / Sales (%)','IT/ITES & other professional services','Additions to computers and IT systems during the year','Gross software','Net profit margin','Net cash inflow or (outflow) from investing activities','Size','Total forex earnings / Total income (%)','Raw material imports / Raw material purchases (%)', 'Gross computers and IT systems'])\n"
      ]
    },
    {
      "cell_type": "code",
      "execution_count": null,
      "metadata": {
        "id": "4ckYxZTQzZiI"
      },
      "outputs": [],
      "source": [
        "df=dfr.copy()"
      ]
    },
    {
      "cell_type": "markdown",
      "metadata": {},
      "source": [
        "Filling missing values, linearly"
      ]
    },
    {
      "cell_type": "code",
      "execution_count": null,
      "metadata": {
        "id": "ra2VqosSe8_I"
      },
      "outputs": [],
      "source": [
        "def fill_nan_linearly(column):\n",
        "    return column.fillna(method='ffill').fillna(method='bfill')\n",
        "filled_df = df.groupby('Companies').apply(lambda group: group.apply(fill_nan_linearly, axis=0))\n",
        "filled_df.reset_index(drop=True, inplace=True)"
      ]
    },
    {
      "cell_type": "code",
      "execution_count": null,
      "metadata": {
        "id": "e8w5lIYPe_IZ"
      },
      "outputs": [],
      "source": [
        "df=filled_df.copy()"
      ]
    },
    {
      "cell_type": "markdown",
      "metadata": {},
      "source": [
        "Mathematical manipulation to avoid explosion in mape value"
      ]
    },
    {
      "cell_type": "code",
      "execution_count": null,
      "metadata": {},
      "outputs": [],
      "source": [
        "for i in df.columns:\n",
        "  df.loc[df[i] == 0, i] = 0.1"
      ]
    },
    {
      "cell_type": "markdown",
      "metadata": {},
      "source": [
        "Train Test Split"
      ]
    },
    {
      "cell_type": "code",
      "execution_count": null,
      "metadata": {
        "id": "qDJmIhmMfo4B"
      },
      "outputs": [],
      "source": [
        "train = df[df['Year'] < 2020]\n",
        "test = df[df['Year'] >= 2021]"
      ]
    },
    {
      "cell_type": "code",
      "execution_count": null,
      "metadata": {
        "id": "Y95ZYbaCfqDw"
      },
      "outputs": [],
      "source": [
        "X_train = train.drop(['Total income'], axis=1)\n",
        "Y_train = DataFrame(train['Total income'])\n",
        "X_test = test.drop(['Total income'], axis=1)\n",
        "Y_test = DataFrame(test['Total income'])"
      ]
    },
    {
      "cell_type": "markdown",
      "metadata": {},
      "source": [
        "Converting Data to supervised format"
      ]
    },
    {
      "cell_type": "code",
      "execution_count": null,
      "metadata": {
        "id": "eH_B0B4mgz-8"
      },
      "outputs": [],
      "source": [
        "def series_to_supervised(data, n_in=1, n_out=1, dropnan=True):\n",
        "    n_vars = 1 if type(data) is list else data.shape[1]\n",
        "    df = DataFrame(data)\n",
        "    cols, names = list(), list()\n",
        "    for i in range(n_in, 0, -1):\n",
        "        cols.append(df.shift(i))\n",
        "        names += [('var%d(t-%d)' % (j+1, i)) for j in range(n_vars)]\n",
        "    for i in range(0, n_out):\n",
        "        cols.append(df.shift(-i))\n",
        "        if i == 0:\n",
        "            names += [('var%d(t)' % (j+1)) for j in range(n_vars)]\n",
        "        else:\n",
        "            names += [('var%d(t+%d)' % (j+1, i)) for j in range(n_vars)]\n",
        "\n",
        "    agg = concat(cols, axis=1)\n",
        "    agg.columns = names\n",
        "\n",
        "    if dropnan:\n",
        "        agg.dropna(inplace=True)\n",
        "    return agg\n"
      ]
    },
    {
      "cell_type": "markdown",
      "metadata": {},
      "source": [
        "Reshaping the data"
      ]
    },
    {
      "cell_type": "code",
      "execution_count": null,
      "metadata": {},
      "outputs": [],
      "source": [
        "def reshape_data(train,test):\n",
        "    reframed_train = series_to_supervised(train, 1, 1)\n",
        "    reframed_test = series_to_supervised(test, 1, 1)\n",
        "\n",
        "    train= reframed_train.values\n",
        "    test=reframed_test.values\n",
        "\n",
        "    train_X, y_train = train[:, :-1], train[:, -1]\n",
        "    test_X, y_test = test[:, :-1], test[:, -1]\n",
        "\n",
        "    x_train = train_X.reshape((train_X.shape[0], 1, train_X.shape[1]))\n",
        "    x_test = test_X.reshape((test_X.shape[0], 1, test_X.shape[1]))\n",
        "    return x_train,x_test,y_train,y_test"
      ]
    },
    {
      "cell_type": "markdown",
      "metadata": {},
      "source": [
        "Converting categorical labels into numeric values"
      ]
    },
    {
      "cell_type": "code",
      "execution_count": null,
      "metadata": {
        "id": "JBoCSS5Eg6Fx"
      },
      "outputs": [],
      "source": [
        "encoder = LabelEncoder()\n",
        "\n",
        "train_data=pd.DataFrame()\n",
        "train_data[X_train.columns]=X_train\n",
        "train_data[Y_train.columns]=Y_train\n",
        "train_data['Companies']= encoder.fit_transform(train_data['Companies'])\n",
        "\n",
        "test_data=pd.DataFrame()\n",
        "test_data[X_test.columns]=X_test\n",
        "test_data[Y_test.columns]=Y_test\n",
        "test_data['Companies']= encoder.fit_transform(test_data['Companies'])"
      ]
    },
    {
      "cell_type": "code",
      "execution_count": null,
      "metadata": {
        "id": "2xdWpKbYhcQk"
      },
      "outputs": [],
      "source": [
        "x_train,x_test,y_train,y_test=reshape_data(train_data,test_data)"
      ]
    },
    {
      "cell_type": "markdown",
      "metadata": {},
      "source": [
        "Model"
      ]
    },
    {
      "cell_type": "code",
      "execution_count": null,
      "metadata": {
        "colab": {
          "base_uri": "https://localhost:8080/"
        },
        "id": "Uzl5Ob89hfJh",
        "outputId": "f381a7f7-5e15-4fe3-bc55-9d7746aa8f6b"
      },
      "outputs": [
        {
          "name": "stdout",
          "output_type": "stream",
          "text": [
            "Epoch 1/50\n",
            "802/802 [==============================] - 6s 5ms/step - loss: 1620.1708\n",
            "Epoch 2/50\n",
            "802/802 [==============================] - 3s 4ms/step - loss: 700.3201\n",
            "Epoch 3/50\n",
            "802/802 [==============================] - 2s 3ms/step - loss: 493.9768\n",
            "Epoch 4/50\n",
            "802/802 [==============================] - 3s 4ms/step - loss: 425.7130\n",
            "Epoch 5/50\n",
            "802/802 [==============================] - 3s 3ms/step - loss: 389.3691\n",
            "Epoch 6/50\n",
            "802/802 [==============================] - 4s 5ms/step - loss: 354.6677\n",
            "Epoch 7/50\n",
            "802/802 [==============================] - 2s 3ms/step - loss: 362.3148\n",
            "Epoch 8/50\n",
            "802/802 [==============================] - 2s 2ms/step - loss: 366.4866\n",
            "Epoch 9/50\n",
            "802/802 [==============================] - 2s 3ms/step - loss: 362.3647\n",
            "Epoch 10/50\n",
            "802/802 [==============================] - 2s 3ms/step - loss: 331.9199\n",
            "Epoch 11/50\n",
            "802/802 [==============================] - 3s 4ms/step - loss: 332.3635\n",
            "Epoch 12/50\n",
            "802/802 [==============================] - 4s 4ms/step - loss: 339.2112\n",
            "Epoch 13/50\n",
            "802/802 [==============================] - 2s 3ms/step - loss: 356.2285\n",
            "Epoch 14/50\n",
            "802/802 [==============================] - 2s 3ms/step - loss: 326.6402\n",
            "Epoch 15/50\n",
            "802/802 [==============================] - 2s 3ms/step - loss: 331.6216\n",
            "Epoch 16/50\n",
            "802/802 [==============================] - 2s 3ms/step - loss: 314.9782\n",
            "Epoch 17/50\n",
            "802/802 [==============================] - 4s 5ms/step - loss: 335.2502\n",
            "Epoch 18/50\n",
            "802/802 [==============================] - 2s 3ms/step - loss: 315.3161\n",
            "Epoch 19/50\n",
            "802/802 [==============================] - 2s 3ms/step - loss: 340.0487\n",
            "Epoch 20/50\n",
            "802/802 [==============================] - 2s 3ms/step - loss: 311.5841\n",
            "Epoch 21/50\n",
            "802/802 [==============================] - 2s 3ms/step - loss: 328.1699\n",
            "Epoch 22/50\n",
            "802/802 [==============================] - 3s 4ms/step - loss: 303.1156\n",
            "Epoch 23/50\n",
            "802/802 [==============================] - 4s 5ms/step - loss: 310.3746\n",
            "Epoch 24/50\n",
            "802/802 [==============================] - 2s 3ms/step - loss: 308.9505\n",
            "Epoch 25/50\n",
            "802/802 [==============================] - 2s 3ms/step - loss: 303.9477\n",
            "Epoch 26/50\n",
            "802/802 [==============================] - 2s 3ms/step - loss: 300.6047\n",
            "Epoch 27/50\n",
            "802/802 [==============================] - 2s 3ms/step - loss: 297.4865\n",
            "Epoch 28/50\n",
            "802/802 [==============================] - 3s 4ms/step - loss: 307.9904\n",
            "Epoch 29/50\n",
            "802/802 [==============================] - 3s 3ms/step - loss: 309.1168\n",
            "Epoch 30/50\n",
            "802/802 [==============================] - 2s 3ms/step - loss: 302.9641\n",
            "Epoch 31/50\n",
            "802/802 [==============================] - 2s 3ms/step - loss: 321.3698\n",
            "Epoch 32/50\n",
            "802/802 [==============================] - 2s 3ms/step - loss: 300.4870\n",
            "Epoch 33/50\n",
            "802/802 [==============================] - 2s 3ms/step - loss: 295.5453\n",
            "Epoch 34/50\n",
            "802/802 [==============================] - 4s 4ms/step - loss: 309.7475\n",
            "Epoch 35/50\n",
            "802/802 [==============================] - 3s 4ms/step - loss: 289.7310\n",
            "Epoch 36/50\n",
            "802/802 [==============================] - 2s 3ms/step - loss: 306.3066\n",
            "Epoch 37/50\n",
            "802/802 [==============================] - 2s 3ms/step - loss: 295.0598\n",
            "Epoch 38/50\n",
            "802/802 [==============================] - 3s 3ms/step - loss: 304.0137\n",
            "Epoch 39/50\n",
            "802/802 [==============================] - 3s 4ms/step - loss: 288.8779\n",
            "Epoch 40/50\n",
            "802/802 [==============================] - 4s 5ms/step - loss: 301.2249\n",
            "Epoch 41/50\n",
            "802/802 [==============================] - 3s 3ms/step - loss: 305.0357\n",
            "Epoch 42/50\n",
            "802/802 [==============================] - 3s 4ms/step - loss: 295.1938\n",
            "Epoch 43/50\n",
            "802/802 [==============================] - 2s 3ms/step - loss: 275.6384\n",
            "Epoch 44/50\n",
            "802/802 [==============================] - 2s 3ms/step - loss: 298.6013\n",
            "Epoch 45/50\n",
            "802/802 [==============================] - 4s 6ms/step - loss: 291.7741\n",
            "Epoch 46/50\n",
            "802/802 [==============================] - 3s 3ms/step - loss: 287.4616\n",
            "Epoch 47/50\n",
            "802/802 [==============================] - 2s 3ms/step - loss: 301.4044\n",
            "Epoch 48/50\n",
            "802/802 [==============================] - 2s 3ms/step - loss: 281.5354\n",
            "Epoch 49/50\n",
            "802/802 [==============================] - 2s 3ms/step - loss: 292.0728\n",
            "Epoch 50/50\n",
            "802/802 [==============================] - 4s 5ms/step - loss: 301.4151\n"
          ]
        }
      ],
      "source": [
        "model = Sequential()\n",
        "model.add(GRU(60, activation='relu',input_shape=(x_train.shape[1], x_train.shape[2])))\n",
        "\n",
        "model.add(Dense(1))\n",
        "model.compile(loss='mae', optimizer='adam')\n",
        "\n",
        "history = model.fit(x_train, y_train, epochs=50, batch_size=50,  verbose=1, shuffle=False)"
      ]
    },
    {
      "cell_type": "code",
      "execution_count": null,
      "metadata": {
        "colab": {
          "base_uri": "https://localhost:8080/",
          "height": 430
        },
        "id": "5nWLZWIyiLuI",
        "outputId": "7358b6a8-cb0e-443e-8234-316b2130434c"
      },
      "outputs": [
        {
          "data": {
            "image/png": "[encoded data removed]",
            "text/plain": [
              "<Figure size 640x480 with 1 Axes>"
            ]
          },
          "metadata": {},
          "output_type": "display_data"
        }
      ],
      "source": [
        "plt.plot(history.history['loss'], label='Loss')\n",
        "plt.legend()\n",
        "plt.show()"
      ]
    },
    {
      "cell_type": "code",
      "execution_count": null,
      "metadata": {
        "colab": {
          "base_uri": "https://localhost:8080/"
        },
        "id": "Wcf2L6lliSPR",
        "outputId": "09830ddb-375c-4a8d-e667-1855de1cbbe7"
      },
      "outputs": [
        {
          "name": "stdout",
          "output_type": "stream",
          "text": [
            "376/376 [==============================] - 1s 2ms/step\n",
            "1253/1253 [==============================] - 2s 2ms/step\n"
          ]
        },
        {
          "data": {
            "text/plain": [
              "((40089, 1), (40089,))"
            ]
          },
          "execution_count": 22,
          "metadata": {},
          "output_type": "execute_result"
        }
      ],
      "source": [
        "y_test_pre=model.predict(x_test)\n",
        "y_train_pre=model.predict(x_train)\n",
        "\n",
        "y_test_pre.shape,y_test.shape\n",
        "y_train_pre.shape,y_train.shape"
      ]
    },
    {
      "cell_type": "code",
      "execution_count": null,
      "metadata": {
        "id": "JQVQj7DMaMqd"
      },
      "outputs": [],
      "source": [
        "y_dat_pred=list(y_test_pre)+list(y_train_pre)\n",
        "y_dat_act=list(y_test)+list(y_train)\n",
        "year_dat=list(test_data['Year'])[1:]+list(train_data['Year'])[1:]"
      ]
    },
    {
      "cell_type": "code",
      "execution_count": null,
      "metadata": {
        "colab": {
          "base_uri": "https://localhost:8080/",
          "height": 206
        },
        "id": "-aJC9bmYW8KG",
        "outputId": "ccda4306-53b2-4932-8240-8a5111f67891"
      },
      "outputs": [
        {
          "data": {
            "application/vnd.google.colaboratory.intrinsic+json": {
              "summary": "{\n  \"name\": \"pa\",\n  \"rows\": 52115,\n  \"fields\": [\n    {\n      \"column\": \"Prediction\",\n      \"properties\": {\n        \"dtype\": \"float32\",\n        \"num_unique_values\": 52086,\n        \"samples\": [\n          359.5938415527344,\n          49.05832290649414,\n          3221.65478515625\n        ],\n        \"semantic_type\": \"\",\n        \"description\": \"\"\n      }\n    },\n    {\n      \"column\": \"Year\",\n      \"properties\": {\n        \"dtype\": \"number\",\n        \"std\": 4,\n        \"min\": 2010,\n        \"max\": 2023,\n        \"num_unique_values\": 13,\n        \"samples\": [\n          2019,\n          2017,\n          2022\n        ],\n        \"semantic_type\": \"\",\n        \"description\": \"\"\n      }\n    },\n    {\n      \"column\": \"Actual Values\",\n      \"properties\": {\n        \"dtype\": \"number\",\n        \"std\": 50846.03279021042,\n        \"min\": -80.6,\n        \"max\": 2426325.6,\n        \"num_unique_values\": 39163,\n        \"samples\": [\n          7391.5,\n          820.6,\n          15957.7\n        ],\n        \"semantic_type\": \"\",\n        \"description\": \"\"\n      }\n    }\n  ]\n}",
              "type": "dataframe",
              "variable_name": "pa"
            },
            "text/html": [
              "\n",
              "  <div id=\"df-255f4b49-0000-4c7d-b52c-729bbfd35b17\" class=\"colab-df-container\">\n",
              "    <div>\n",
              "<style scoped>\n",
              "    .dataframe tbody tr th:only-of-type {\n",
              "        vertical-align: middle;\n",
              "    }\n",
              "\n",
              "    .dataframe tbody tr th {\n",
              "        vertical-align: top;\n",
              "    }\n",
              "\n",
              "    .dataframe thead th {\n",
              "        text-align: right;\n",
              "    }\n",
              "</style>\n",
              "<table border=\"1\" class=\"dataframe\">\n",
              "  <thead>\n",
              "    <tr style=\"text-align: right;\">\n",
              "      <th></th>\n",
              "      <th>Prediction</th>\n",
              "      <th>Year</th>\n",
              "      <th>Actual Values</th>\n",
              "    </tr>\n",
              "  </thead>\n",
              "  <tbody>\n",
              "    <tr>\n",
              "      <th>0</th>\n",
              "      <td>5164.920410</td>\n",
              "      <td>2022</td>\n",
              "      <td>5229.5</td>\n",
              "    </tr>\n",
              "    <tr>\n",
              "      <th>1</th>\n",
              "      <td>5984.759766</td>\n",
              "      <td>2023</td>\n",
              "      <td>6044.2</td>\n",
              "    </tr>\n",
              "    <tr>\n",
              "      <th>2</th>\n",
              "      <td>1181.523071</td>\n",
              "      <td>2021</td>\n",
              "      <td>1229.1</td>\n",
              "    </tr>\n",
              "    <tr>\n",
              "      <th>3</th>\n",
              "      <td>1940.618042</td>\n",
              "      <td>2022</td>\n",
              "      <td>1957.7</td>\n",
              "    </tr>\n",
              "    <tr>\n",
              "      <th>4</th>\n",
              "      <td>1941.694092</td>\n",
              "      <td>2023</td>\n",
              "      <td>1957.7</td>\n",
              "    </tr>\n",
              "  </tbody>\n",
              "</table>\n",
              "</div>\n",
              "    <div class=\"colab-df-buttons\">\n",
              "\n",
              "  <div class=\"colab-df-container\">\n",
              "    <button class=\"colab-df-convert\" onclick=\"convertToInteractive('df-255f4b49-0000-4c7d-b52c-729bbfd35b17')\"\n",
              "            title=\"Convert this dataframe to an interactive table.\"\n",
              "            style=\"display:none;\">\n",
              "\n",
              "  <svg xmlns=\"http://www.w3.org/2000/svg\" height=\"24px\" viewBox=\"0 -960 960 960\">\n",
              "    <path d=\"M120-120v-720h720v720H120Zm60-500h600v-160H180v160Zm220 220h160v-160H400v160Zm0 220h160v-160H400v160ZM180-400h160v-160H180v160Zm440 0h160v-160H620v160ZM180-180h160v-160H180v160Zm440 0h160v-160H620v160Z\"/>\n",
              "  </svg>\n",
              "    </button>\n",
              "\n",
              "  <style>\n",
              "    .colab-df-container {\n",
              "      display:flex;\n",
              "      gap: 12px;\n",
              "    }\n",
              "\n",
              "    .colab-df-convert {\n",
              "      background-color: #E8F0FE;\n",
              "      border: none;\n",
              "      border-radius: 50%;\n",
              "      cursor: pointer;\n",
              "      display: none;\n",
              "      fill: #1967D2;\n",
              "      height: 32px;\n",
              "      padding: 0 0 0 0;\n",
              "      width: 32px;\n",
              "    }\n",
              "\n",
              "    .colab-df-convert:hover {\n",
              "      background-color: #E2EBFA;\n",
              "      box-shadow: 0px 1px 2px rgba(60, 64, 67, 0.3), 0px 1px 3px 1px rgba(60, 64, 67, 0.15);\n",
              "      fill: #174EA6;\n",
              "    }\n",
              "\n",
              "    .colab-df-buttons div {\n",
              "      margin-bottom: 4px;\n",
              "    }\n",
              "\n",
              "    [theme=dark] .colab-df-convert {\n",
              "      background-color: #3B4455;\n",
              "      fill: #D2E3FC;\n",
              "    }\n",
              "\n",
              "    [theme=dark] .colab-df-convert:hover {\n",
              "      background-color: #434B5C;\n",
              "      box-shadow: 0px 1px 3px 1px rgba(0, 0, 0, 0.15);\n",
              "      filter: drop-shadow(0px 1px 2px rgba(0, 0, 0, 0.3));\n",
              "      fill: #FFFFFF;\n",
              "    }\n",
              "  </style>\n",
              "\n",
              "    <script>\n",
              "      const buttonEl =\n",
              "        document.querySelector('#df-255f4b49-0000-4c7d-b52c-729bbfd35b17 button.colab-df-convert');\n",
              "      buttonEl.style.display =\n",
              "        google.colab.kernel.accessAllowed ? 'block' : 'none';\n",
              "\n",
              "      async function convertToInteractive(key) {\n",
              "        const element = document.querySelector('#df-255f4b49-0000-4c7d-b52c-729bbfd35b17');\n",
              "        const dataTable =\n",
              "          await google.colab.kernel.invokeFunction('convertToInteractive',\n",
              "                                                    [key], {});\n",
              "        if (!dataTable) return;\n",
              "\n",
              "        const docLinkHtml = 'Like what you see? Visit the ' +\n",
              "          '<a target=\"_blank\" href=https://colab.research.google.com/notebooks/data_table.ipynb>data table notebook</a>'\n",
              "          + ' to learn more about interactive tables.';\n",
              "        element.innerHTML = '';\n",
              "        dataTable['output_type'] = 'display_data';\n",
              "        await google.colab.output.renderOutput(dataTable, element);\n",
              "        const docLink = document.createElement('div');\n",
              "        docLink.innerHTML = docLinkHtml;\n",
              "        element.appendChild(docLink);\n",
              "      }\n",
              "    </script>\n",
              "  </div>\n",
              "\n",
              "\n",
              "<div id=\"df-593aa8de-e465-48fa-a7d7-2fba44811f29\">\n",
              "  <button class=\"colab-df-quickchart\" onclick=\"quickchart('df-593aa8de-e465-48fa-a7d7-2fba44811f29')\"\n",
              "            title=\"Suggest charts\"\n",
              "            style=\"display:none;\">\n",
              "\n",
              "<svg xmlns=\"http://www.w3.org/2000/svg\" height=\"24px\"viewBox=\"0 0 24 24\"\n",
              "     width=\"24px\">\n",
              "    <g>\n",
              "        <path d=\"M19 3H5c-1.1 0-2 .9-2 2v14c0 1.1.9 2 2 2h14c1.1 0 2-.9 2-2V5c0-1.1-.9-2-2-2zM9 17H7v-7h2v7zm4 0h-2V7h2v10zm4 0h-2v-4h2v4z\"/>\n",
              "    </g>\n",
              "</svg>\n",
              "  </button>\n",
              "\n",
              "<style>\n",
              "  .colab-df-quickchart {\n",
              "      --bg-color: #E8F0FE;\n",
              "      --fill-color: #1967D2;\n",
              "      --hover-bg-color: #E2EBFA;\n",
              "      --hover-fill-color: #174EA6;\n",
              "      --disabled-fill-color: #AAA;\n",
              "      --disabled-bg-color: #DDD;\n",
              "  }\n",
              "\n",
              "  [theme=dark] .colab-df-quickchart {\n",
              "      --bg-color: #3B4455;\n",
              "      --fill-color: #D2E3FC;\n",
              "      --hover-bg-color: #434B5C;\n",
              "      --hover-fill-color: #FFFFFF;\n",
              "      --disabled-bg-color: #3B4455;\n",
              "      --disabled-fill-color: #666;\n",
              "  }\n",
              "\n",
              "  .colab-df-quickchart {\n",
              "    background-color: var(--bg-color);\n",
              "    border: none;\n",
              "    border-radius: 50%;\n",
              "    cursor: pointer;\n",
              "    display: none;\n",
              "    fill: var(--fill-color);\n",
              "    height: 32px;\n",
              "    padding: 0;\n",
              "    width: 32px;\n",
              "  }\n",
              "\n",
              "  .colab-df-quickchart:hover {\n",
              "    background-color: var(--hover-bg-color);\n",
              "    box-shadow: 0 1px 2px rgba(60, 64, 67, 0.3), 0 1px 3px 1px rgba(60, 64, 67, 0.15);\n",
              "    fill: var(--button-hover-fill-color);\n",
              "  }\n",
              "\n",
              "  .colab-df-quickchart-complete:disabled,\n",
              "  .colab-df-quickchart-complete:disabled:hover {\n",
              "    background-color: var(--disabled-bg-color);\n",
              "    fill: var(--disabled-fill-color);\n",
              "    box-shadow: none;\n",
              "  }\n",
              "\n",
              "  .colab-df-spinner {\n",
              "    border: 2px solid var(--fill-color);\n",
              "    border-color: transparent;\n",
              "    border-bottom-color: var(--fill-color);\n",
              "    animation:\n",
              "      spin 1s steps(1) infinite;\n",
              "  }\n",
              "\n",
              "  @keyframes spin {\n",
              "    0% {\n",
              "      border-color: transparent;\n",
              "      border-bottom-color: var(--fill-color);\n",
              "      border-left-color: var(--fill-color);\n",
              "    }\n",
              "    20% {\n",
              "      border-color: transparent;\n",
              "      border-left-color: var(--fill-color);\n",
              "      border-top-color: var(--fill-color);\n",
              "    }\n",
              "    30% {\n",
              "      border-color: transparent;\n",
              "      border-left-color: var(--fill-color);\n",
              "      border-top-color: var(--fill-color);\n",
              "      border-right-color: var(--fill-color);\n",
              "    }\n",
              "    40% {\n",
              "      border-color: transparent;\n",
              "      border-right-color: var(--fill-color);\n",
              "      border-top-color: var(--fill-color);\n",
              "    }\n",
              "    60% {\n",
              "      border-color: transparent;\n",
              "      border-right-color: var(--fill-color);\n",
              "    }\n",
              "    80% {\n",
              "      border-color: transparent;\n",
              "      border-right-color: var(--fill-color);\n",
              "      border-bottom-color: var(--fill-color);\n",
              "    }\n",
              "    90% {\n",
              "      border-color: transparent;\n",
              "      border-bottom-color: var(--fill-color);\n",
              "    }\n",
              "  }\n",
              "</style>\n",
              "\n",
              "  <script>\n",
              "    async function quickchart(key) {\n",
              "      const quickchartButtonEl =\n",
              "        document.querySelector('#' + key + ' button');\n",
              "      quickchartButtonEl.disabled = true;  // To prevent multiple clicks.\n",
              "      quickchartButtonEl.classList.add('colab-df-spinner');\n",
              "      try {\n",
              "        const charts = await google.colab.kernel.invokeFunction(\n",
              "            'suggestCharts', [key], {});\n",
              "      } catch (error) {\n",
              "        console.error('Error during call to suggestCharts:', error);\n",
              "      }\n",
              "      quickchartButtonEl.classList.remove('colab-df-spinner');\n",
              "      quickchartButtonEl.classList.add('colab-df-quickchart-complete');\n",
              "    }\n",
              "    (() => {\n",
              "      let quickchartButtonEl =\n",
              "        document.querySelector('#df-593aa8de-e465-48fa-a7d7-2fba44811f29 button');\n",
              "      quickchartButtonEl.style.display =\n",
              "        google.colab.kernel.accessAllowed ? 'block' : 'none';\n",
              "    })();\n",
              "  </script>\n",
              "</div>\n",
              "\n",
              "    </div>\n",
              "  </div>\n"
            ],
            "text/plain": [
              "    Prediction  Year  Actual Values\n",
              "0  5164.920410  2022         5229.5\n",
              "1  5984.759766  2023         6044.2\n",
              "2  1181.523071  2021         1229.1\n",
              "3  1940.618042  2022         1957.7\n",
              "4  1941.694092  2023         1957.7"
            ]
          },
          "execution_count": 24,
          "metadata": {},
          "output_type": "execute_result"
        }
      ],
      "source": [
        "pa=pd.DataFrame()\n",
        "pa['Prediction']=[i[0] for i in y_dat_pred]\n",
        "pa['Year']=year_dat\n",
        "pa['Actual Values']=y_dat_act\n",
        "pa.head()"
      ]
    },
    {
      "cell_type": "code",
      "execution_count": null,
      "metadata": {
        "colab": {
          "base_uri": "https://localhost:8080/"
        },
        "id": "caM5_4lJm3Ty",
        "outputId": "abade0d0-ca39-4f62-c6a9-b075c9bdd717"
      },
      "outputs": [
        {
          "data": {
            "text/plain": [
              "Year\n",
              "2010    24728048.0\n",
              "2011    25242684.0\n",
              "2012    28490680.0\n",
              "2013    32132138.0\n",
              "2014    35889896.0\n",
              "2015    39154820.0\n",
              "2016    41555328.0\n",
              "2017    45378004.0\n",
              "2018    48746280.0\n",
              "2019    55225236.0\n",
              "2021    54394016.0\n",
              "2022    68527344.0\n",
              "2023    79834072.0\n",
              "Name: Prediction, dtype: float32"
            ]
          },
          "execution_count": 26,
          "metadata": {},
          "output_type": "execute_result"
        }
      ],
      "source": [
        "pa.groupby('Year')['Prediction'].sum()"
      ]
    },
    {
      "cell_type": "code",
      "execution_count": null,
      "metadata": {
        "colab": {
          "base_uri": "https://localhost:8080/"
        },
        "id": "c_Yxco81m_Kw",
        "outputId": "d4043760-cc81-43eb-8576-e2f9717c5f35"
      },
      "outputs": [
        {
          "data": {
            "text/plain": [
              "Year\n",
              "2010    2.534904e+07\n",
              "2011    2.555476e+07\n",
              "2012    2.860712e+07\n",
              "2013    3.207748e+07\n",
              "2014    3.613649e+07\n",
              "2015    3.914672e+07\n",
              "2016    4.172200e+07\n",
              "2017    4.538526e+07\n",
              "2018    4.881630e+07\n",
              "2019    5.521588e+07\n",
              "2021    5.529552e+07\n",
              "2022    6.857170e+07\n",
              "2023    7.971540e+07\n",
              "Name: Actual Values, dtype: float64"
            ]
          },
          "execution_count": 27,
          "metadata": {},
          "output_type": "execute_result"
        }
      ],
      "source": [
        "pa.groupby('Year')['Actual Values'].sum()"
      ]
    },
    {
      "cell_type": "code",
      "execution_count": null,
      "metadata": {
        "id": "eml7k3nsnQa0"
      },
      "outputs": [],
      "source": [
        "from sklearn.metrics import mean_squared_error\n",
        "def RMSE(actual,prediction):\n",
        "    rmse = np.sqrt(mean_squared_error(actual,prediction))\n",
        "    return rmse"
      ]
    },
    {
      "cell_type": "code",
      "execution_count": null,
      "metadata": {
        "id": "0q-zFSunyMyt"
      },
      "outputs": [],
      "source": [
        "from sklearn.metrics import mean_absolute_percentage_error\n",
        "def MAPE(actual,prediction):\n",
        "    mape = np.sqrt(mean_absolute_percentage_error(actual,prediction))\n",
        "    return mape"
      ]
    },
    {
      "cell_type": "code",
      "execution_count": null,
      "metadata": {
        "id": "saNp1PTy37V-"
      },
      "outputs": [],
      "source": [
        "from sklearn.metrics import r2_score\n",
        "def R2(actual,prediction):\n",
        "    r2= np.sqrt(r2_score(actual,prediction))\n",
        "    return r2"
      ]
    },
    {
      "cell_type": "code",
      "execution_count": null,
      "metadata": {
        "id": "nM8KmPwhcjY3"
      },
      "outputs": [],
      "source": [
        "from sklearn.metrics import mean_absolute_error\n",
        "def MAE(actual,prediction):\n",
        "    mae= np.sqrt(mean_absolute_error(actual,prediction))\n",
        "    return mae"
      ]
    },
    {
      "cell_type": "markdown",
      "metadata": {},
      "source": [
        "RMSE of test"
      ]
    },
    {
      "cell_type": "code",
      "execution_count": null,
      "metadata": {
        "colab": {
          "base_uri": "https://localhost:8080/"
        },
        "id": "AOwMUXJZnTBw",
        "outputId": "c946d30d-3e14-4284-a77c-b5bc117baefd"
      },
      "outputs": [
        {
          "name": "stdout",
          "output_type": "stream",
          "text": [
            "2721.1755180670043\n"
          ]
        }
      ],
      "source": [
        "print(RMSE(y_test,[i[0] for i in y_test_pre]))"
      ]
    },
    {
      "cell_type": "markdown",
      "metadata": {},
      "source": [
        "RMSE of train"
      ]
    },
    {
      "cell_type": "code",
      "execution_count": null,
      "metadata": {
        "colab": {
          "base_uri": "https://localhost:8080/"
        },
        "id": "BfVHtbFydDxY",
        "outputId": "652042ba-30a8-41da-f2cf-4e1c471a1bef"
      },
      "outputs": [
        {
          "name": "stdout",
          "output_type": "stream",
          "text": [
            "2099.395540291813\n"
          ]
        }
      ],
      "source": [
        "print(RMSE(y_train,[i[0] for i in y_train_pre]))"
      ]
    },
    {
      "cell_type": "markdown",
      "metadata": {},
      "source": [
        "MAPE of test"
      ]
    },
    {
      "cell_type": "code",
      "execution_count": null,
      "metadata": {
        "colab": {
          "base_uri": "https://localhost:8080/"
        },
        "id": "CbDcnsGcyUKA",
        "outputId": "4e01d948-09ef-4a04-8a12-963ad9f3a49a"
      },
      "outputs": [
        {
          "name": "stdout",
          "output_type": "stream",
          "text": [
            "1.2442657406291893\n"
          ]
        }
      ],
      "source": [
        "print(MAPE(y_test,[i[0] for i in y_test_pre]))"
      ]
    },
    {
      "cell_type": "markdown",
      "metadata": {},
      "source": [
        "MAPE of train"
      ]
    },
    {
      "cell_type": "code",
      "execution_count": null,
      "metadata": {
        "colab": {
          "base_uri": "https://localhost:8080/"
        },
        "id": "uXJp4X0ldEgO",
        "outputId": "160b4d52-a963-4ba6-c4ba-312f1078bfdf"
      },
      "outputs": [
        {
          "name": "stdout",
          "output_type": "stream",
          "text": [
            "4.564541670461355\n"
          ]
        }
      ],
      "source": [
        "print(MAPE(y_train,[i[0] for i in y_train_pre]))"
      ]
    },
    {
      "cell_type": "markdown",
      "metadata": {},
      "source": [
        "R2 of test"
      ]
    },
    {
      "cell_type": "code",
      "execution_count": null,
      "metadata": {
        "colab": {
          "base_uri": "https://localhost:8080/"
        },
        "id": "LeACwxfh35-K",
        "outputId": "08555ba4-0a9b-474c-a165-7663edc481c3"
      },
      "outputs": [
        {
          "name": "stdout",
          "output_type": "stream",
          "text": [
            "0.9993021248731327\n"
          ]
        }
      ],
      "source": [
        "print(R2(y_test,[i[0] for i in y_test_pre]))"
      ]
    },
    {
      "cell_type": "markdown",
      "metadata": {},
      "source": [
        "R2 of train"
      ]
    },
    {
      "cell_type": "code",
      "execution_count": null,
      "metadata": {
        "colab": {
          "base_uri": "https://localhost:8080/"
        },
        "id": "jvjvYxtAdFWE",
        "outputId": "aa8b09ca-1ee1-4809-84b6-bbfa626d0a7b"
      },
      "outputs": [
        {
          "name": "stdout",
          "output_type": "stream",
          "text": [
            "0.9987440902283621\n"
          ]
        }
      ],
      "source": [
        "print(R2(y_train,[i[0] for i in y_train_pre]))"
      ]
    },
    {
      "cell_type": "markdown",
      "metadata": {},
      "source": [
        "MAE of test"
      ]
    },
    {
      "cell_type": "code",
      "execution_count": null,
      "metadata": {
        "colab": {
          "base_uri": "https://localhost:8080/"
        },
        "id": "2NfwkxFpdF2E",
        "outputId": "adc2a188-8f85-483b-d58d-c9991f11219b"
      },
      "outputs": [
        {
          "name": "stdout",
          "output_type": "stream",
          "text": [
            "15.326698308520887\n"
          ]
        }
      ],
      "source": [
        "print(MAE(y_train,[i[0] for i in y_train_pre]))"
      ]
    },
    {
      "cell_type": "markdown",
      "metadata": {},
      "source": [
        "MAE of train"
      ]
    },
    {
      "cell_type": "code",
      "execution_count": null,
      "metadata": {
        "colab": {
          "base_uri": "https://localhost:8080/"
        },
        "id": "wqey8LxfdGNC",
        "outputId": "de91e4e5-a719-45f8-b761-4d8c912842c5"
      },
      "outputs": [
        {
          "name": "stdout",
          "output_type": "stream",
          "text": [
            "19.220265477247313\n"
          ]
        }
      ],
      "source": [
        "print(MAE(y_test,[i[0] for i in y_test_pre]))"
      ]
    },
    {
      "cell_type": "markdown",
      "metadata": {},
      "source": [
        "Plot"
      ]
    },
    {
      "cell_type": "code",
      "execution_count": null,
      "metadata": {
        "colab": {
          "base_uri": "https://localhost:8080/",
          "height": 542
        },
        "id": "t5z873-0oBuC",
        "outputId": "25746e6c-e803-4c1a-b563-a7e0c9c4439e"
      },
      "outputs": [
        {
          "data": {
            "text/html": [
              "<html>\n",
              "<head><meta charset=\"utf-8\" /></head>\n",
              "<body>\n",
              "    <div>            <script src=\"https://cdnjs.cloudflare.com/ajax/libs/mathjax/2.7.5/MathJax.js?config=TeX-AMS-MML_SVG\"></script><script type=\"text/javascript\">if (window.MathJax && window.MathJax.Hub && window.MathJax.Hub.Config) {window.MathJax.Hub.Config({SVG: {font: \"STIX-Web\"}});}</script>                <script type=\"text/javascript\">window.PlotlyConfig = {MathJaxConfig: 'local'};</script>\n",
              "        <script charset=\"utf-8\" src=\"https://cdn.plot.ly/plotly-2.24.1.min.js\"></script>                <div id=\"562a7184-227d-4efd-bcf6-a3bd7389a4b2\" class=\"plotly-graph-div\" style=\"height:525px; width:100%;\"></div>            <script type=\"text/javascript\">                                    window.PLOTLYENV=window.PLOTLYENV || {};                                    if (document.getElementById(\"562a7184-227d-4efd-bcf6-a3bd7389a4b2\")) {                    Plotly.newPlot(                        \"562a7184-227d-4efd-bcf6-a3bd7389a4b2\",                        [{\"line\":{\"color\":\"red\"},\"mode\":\"lines\",\"name\":\"Prediction\",\"x\":[2010,2011,2012,2013,2014,2015,2016,2017,2018,2019,2021,2022,2023],\"y\":[24728048.0,25242684.0,28490680.0,32132138.0,35889896.0,39154820.0,41555328.0,45378004.0,48746280.0,55225236.0,54394016.0,68527344.0,79834072.0],\"type\":\"scatter\"},{\"line\":{\"color\":\"blue\"},\"mode\":\"lines\",\"name\":\"Actual Values\",\"x\":[2010,2011,2012,2013,2014,2015,2016,2017,2018,2019,2021,2022,2023],\"y\":[25349036.64781746,25554760.084674604,28607119.02240476,32077478.353607144,36136488.333698414,39146720.21587302,41722004.98571429,45385260.05,48816302.86666667,55215883.13333333,55295517.6,68571699.25,79715396.0],\"type\":\"scatter\"}],                        {\"template\":{\"data\":{\"histogram2dcontour\":[{\"type\":\"histogram2dcontour\",\"colorbar\":{\"outlinewidth\":0,\"ticks\":\"\"},\"colorscale\":[[0.0,\"#0d0887\"],[0.1111111111111111,\"#46039f\"],[0.2222222222222222,\"#7201a8\"],[0.3333333333333333,\"#9c179e\"],[0.4444444444444444,\"#bd3786\"],[0.5555555555555556,\"#d8576b\"],[0.6666666666666666,\"#ed7953\"],[0.7777777777777778,\"#fb9f3a\"],[0.8888888888888888,\"#fdca26\"],[1.0,\"#f0f921\"]]}],\"choropleth\":[{\"type\":\"choropleth\",\"colorbar\":{\"outlinewidth\":0,\"ticks\":\"\"}}],\"histogram2d\":[{\"type\":\"histogram2d\",\"colorbar\":{\"outlinewidth\":0,\"ticks\":\"\"},\"colorscale\":[[0.0,\"#0d0887\"],[0.1111111111111111,\"#46039f\"],[0.2222222222222222,\"#7201a8\"],[0.3333333333333333,\"#9c179e\"],[0.4444444444444444,\"#bd3786\"],[0.5555555555555556,\"#d8576b\"],[0.6666666666666666,\"#ed7953\"],[0.7777777777777778,\"#fb9f3a\"],[0.8888888888888888,\"#fdca26\"],[1.0,\"#f0f921\"]]}],\"heatmap\":[{\"type\":\"heatmap\",\"colorbar\":{\"outlinewidth\":0,\"ticks\":\"\"},\"colorscale\":[[0.0,\"#0d0887\"],[0.1111111111111111,\"#46039f\"],[0.2222222222222222,\"#7201a8\"],[0.3333333333333333,\"#9c179e\"],[0.4444444444444444,\"#bd3786\"],[0.5555555555555556,\"#d8576b\"],[0.6666666666666666,\"#ed7953\"],[0.7777777777777778,\"#fb9f3a\"],[0.8888888888888888,\"#fdca26\"],[1.0,\"#f0f921\"]]}],\"heatmapgl\":[{\"type\":\"heatmapgl\",\"colorbar\":{\"outlinewidth\":0,\"ticks\":\"\"},\"colorscale\":[[0.0,\"#0d0887\"],[0.1111111111111111,\"#46039f\"],[0.2222222222222222,\"#7201a8\"],[0.3333333333333333,\"#9c179e\"],[0.4444444444444444,\"#bd3786\"],[0.5555555555555556,\"#d8576b\"],[0.6666666666666666,\"#ed7953\"],[0.7777777777777778,\"#fb9f3a\"],[0.8888888888888888,\"#fdca26\"],[1.0,\"#f0f921\"]]}],\"contourcarpet\":[{\"type\":\"contourcarpet\",\"colorbar\":{\"outlinewidth\":0,\"ticks\":\"\"}}],\"contour\":[{\"type\":\"contour\",\"colorbar\":{\"outlinewidth\":0,\"ticks\":\"\"},\"colorscale\":[[0.0,\"#0d0887\"],[0.1111111111111111,\"#46039f\"],[0.2222222222222222,\"#7201a8\"],[0.3333333333333333,\"#9c179e\"],[0.4444444444444444,\"#bd3786\"],[0.5555555555555556,\"#d8576b\"],[0.6666666666666666,\"#ed7953\"],[0.7777777777777778,\"#fb9f3a\"],[0.8888888888888888,\"#fdca26\"],[1.0,\"#f0f921\"]]}],\"surface\":[{\"type\":\"surface\",\"colorbar\":{\"outlinewidth\":0,\"ticks\":\"\"},\"colorscale\":[[0.0,\"#0d0887\"],[0.1111111111111111,\"#46039f\"],[0.2222222222222222,\"#7201a8\"],[0.3333333333333333,\"#9c179e\"],[0.4444444444444444,\"#bd3786\"],[0.5555555555555556,\"#d8576b\"],[0.6666666666666666,\"#ed7953\"],[0.7777777777777778,\"#fb9f3a\"],[0.8888888888888888,\"#fdca26\"],[1.0,\"#f0f921\"]]}],\"mesh3d\":[{\"type\":\"mesh3d\",\"colorbar\":{\"outlinewidth\":0,\"ticks\":\"\"}}],\"scatter\":[{\"fillpattern\":{\"fillmode\":\"overlay\",\"size\":10,\"solidity\":0.2},\"type\":\"scatter\"}],\"parcoords\":[{\"type\":\"parcoords\",\"line\":{\"colorbar\":{\"outlinewidth\":0,\"ticks\":\"\"}}}],\"scatterpolargl\":[{\"type\":\"scatterpolargl\",\"marker\":{\"colorbar\":{\"outlinewidth\":0,\"ticks\":\"\"}}}],\"bar\":[{\"error_x\":{\"color\":\"#2a3f5f\"},\"error_y\":{\"color\":\"#2a3f5f\"},\"marker\":{\"line\":{\"color\":\"#E5ECF6\",\"width\":0.5},\"pattern\":{\"fillmode\":\"overlay\",\"size\":10,\"solidity\":0.2}},\"type\":\"bar\"}],\"scattergeo\":[{\"type\":\"scattergeo\",\"marker\":{\"colorbar\":{\"outlinewidth\":0,\"ticks\":\"\"}}}],\"scatterpolar\":[{\"type\":\"scatterpolar\",\"marker\":{\"colorbar\":{\"outlinewidth\":0,\"ticks\":\"\"}}}],\"histogram\":[{\"marker\":{\"pattern\":{\"fillmode\":\"overlay\",\"size\":10,\"solidity\":0.2}},\"type\":\"histogram\"}],\"scattergl\":[{\"type\":\"scattergl\",\"marker\":{\"colorbar\":{\"outlinewidth\":0,\"ticks\":\"\"}}}],\"scatter3d\":[{\"type\":\"scatter3d\",\"line\":{\"colorbar\":{\"outlinewidth\":0,\"ticks\":\"\"}},\"marker\":{\"colorbar\":{\"outlinewidth\":0,\"ticks\":\"\"}}}],\"scattermapbox\":[{\"type\":\"scattermapbox\",\"marker\":{\"colorbar\":{\"outlinewidth\":0,\"ticks\":\"\"}}}],\"scatterternary\":[{\"type\":\"scatterternary\",\"marker\":{\"colorbar\":{\"outlinewidth\":0,\"ticks\":\"\"}}}],\"scattercarpet\":[{\"type\":\"scattercarpet\",\"marker\":{\"colorbar\":{\"outlinewidth\":0,\"ticks\":\"\"}}}],\"carpet\":[{\"aaxis\":{\"endlinecolor\":\"#2a3f5f\",\"gridcolor\":\"white\",\"linecolor\":\"white\",\"minorgridcolor\":\"white\",\"startlinecolor\":\"#2a3f5f\"},\"baxis\":{\"endlinecolor\":\"#2a3f5f\",\"gridcolor\":\"white\",\"linecolor\":\"white\",\"minorgridcolor\":\"white\",\"startlinecolor\":\"#2a3f5f\"},\"type\":\"carpet\"}],\"table\":[{\"cells\":{\"fill\":{\"color\":\"#EBF0F8\"},\"line\":{\"color\":\"white\"}},\"header\":{\"fill\":{\"color\":\"#C8D4E3\"},\"line\":{\"color\":\"white\"}},\"type\":\"table\"}],\"barpolar\":[{\"marker\":{\"line\":{\"color\":\"#E5ECF6\",\"width\":0.5},\"pattern\":{\"fillmode\":\"overlay\",\"size\":10,\"solidity\":0.2}},\"type\":\"barpolar\"}],\"pie\":[{\"automargin\":true,\"type\":\"pie\"}]},\"layout\":{\"autotypenumbers\":\"strict\",\"colorway\":[\"#636efa\",\"#EF553B\",\"#00cc96\",\"#ab63fa\",\"#FFA15A\",\"#19d3f3\",\"#FF6692\",\"#B6E880\",\"#FF97FF\",\"#FECB52\"],\"font\":{\"color\":\"#2a3f5f\"},\"hovermode\":\"closest\",\"hoverlabel\":{\"align\":\"left\"},\"paper_bgcolor\":\"white\",\"plot_bgcolor\":\"#E5ECF6\",\"polar\":{\"bgcolor\":\"#E5ECF6\",\"angularaxis\":{\"gridcolor\":\"white\",\"linecolor\":\"white\",\"ticks\":\"\"},\"radialaxis\":{\"gridcolor\":\"white\",\"linecolor\":\"white\",\"ticks\":\"\"}},\"ternary\":{\"bgcolor\":\"#E5ECF6\",\"aaxis\":{\"gridcolor\":\"white\",\"linecolor\":\"white\",\"ticks\":\"\"},\"baxis\":{\"gridcolor\":\"white\",\"linecolor\":\"white\",\"ticks\":\"\"},\"caxis\":{\"gridcolor\":\"white\",\"linecolor\":\"white\",\"ticks\":\"\"}},\"coloraxis\":{\"colorbar\":{\"outlinewidth\":0,\"ticks\":\"\"}},\"colorscale\":{\"sequential\":[[0.0,\"#0d0887\"],[0.1111111111111111,\"#46039f\"],[0.2222222222222222,\"#7201a8\"],[0.3333333333333333,\"#9c179e\"],[0.4444444444444444,\"#bd3786\"],[0.5555555555555556,\"#d8576b\"],[0.6666666666666666,\"#ed7953\"],[0.7777777777777778,\"#fb9f3a\"],[0.8888888888888888,\"#fdca26\"],[1.0,\"#f0f921\"]],\"sequentialminus\":[[0.0,\"#0d0887\"],[0.1111111111111111,\"#46039f\"],[0.2222222222222222,\"#7201a8\"],[0.3333333333333333,\"#9c179e\"],[0.4444444444444444,\"#bd3786\"],[0.5555555555555556,\"#d8576b\"],[0.6666666666666666,\"#ed7953\"],[0.7777777777777778,\"#fb9f3a\"],[0.8888888888888888,\"#fdca26\"],[1.0,\"#f0f921\"]],\"diverging\":[[0,\"#8e0152\"],[0.1,\"#c51b7d\"],[0.2,\"#de77ae\"],[0.3,\"#f1b6da\"],[0.4,\"#fde0ef\"],[0.5,\"#f7f7f7\"],[0.6,\"#e6f5d0\"],[0.7,\"#b8e186\"],[0.8,\"#7fbc41\"],[0.9,\"#4d9221\"],[1,\"#276419\"]]},\"xaxis\":{\"gridcolor\":\"white\",\"linecolor\":\"white\",\"ticks\":\"\",\"title\":{\"standoff\":15},\"zerolinecolor\":\"white\",\"automargin\":true,\"zerolinewidth\":2},\"yaxis\":{\"gridcolor\":\"white\",\"linecolor\":\"white\",\"ticks\":\"\",\"title\":{\"standoff\":15},\"zerolinecolor\":\"white\",\"automargin\":true,\"zerolinewidth\":2},\"scene\":{\"xaxis\":{\"backgroundcolor\":\"#E5ECF6\",\"gridcolor\":\"white\",\"linecolor\":\"white\",\"showbackground\":true,\"ticks\":\"\",\"zerolinecolor\":\"white\",\"gridwidth\":2},\"yaxis\":{\"backgroundcolor\":\"#E5ECF6\",\"gridcolor\":\"white\",\"linecolor\":\"white\",\"showbackground\":true,\"ticks\":\"\",\"zerolinecolor\":\"white\",\"gridwidth\":2},\"zaxis\":{\"backgroundcolor\":\"#E5ECF6\",\"gridcolor\":\"white\",\"linecolor\":\"white\",\"showbackground\":true,\"ticks\":\"\",\"zerolinecolor\":\"white\",\"gridwidth\":2}},\"shapedefaults\":{\"line\":{\"color\":\"#2a3f5f\"}},\"annotationdefaults\":{\"arrowcolor\":\"#2a3f5f\",\"arrowhead\":0,\"arrowwidth\":1},\"geo\":{\"bgcolor\":\"white\",\"landcolor\":\"#E5ECF6\",\"subunitcolor\":\"white\",\"showland\":true,\"showlakes\":true,\"lakecolor\":\"white\"},\"title\":{\"x\":0.05},\"mapbox\":{\"style\":\"light\"}}},\"xaxis\":{\"tickfont\":{\"size\":14},\"title\":{\"text\":\"Year\"},\"dtick\":1},\"yaxis\":{\"tickfont\":{\"size\":14},\"title\":{\"text\":\"Total Income (in Million Rs.)\"}},\"legend\":{\"font\":{\"size\":14}},\"title\":{\"text\":\"GRU\"}},                        {\"responsive\": true}                    ).then(function(){\n",
              "                            \n",
              "var gd = document.getElementById('562a7184-227d-4efd-bcf6-a3bd7389a4b2');\n",
              "var x = new MutationObserver(function (mutations, observer) {{\n",
              "        var display = window.getComputedStyle(gd).display;\n",
              "        if (!display || display === 'none') {{\n",
              "            console.log([gd, 'removed!']);\n",
              "            Plotly.purge(gd);\n",
              "            observer.disconnect();\n",
              "        }}\n",
              "}});\n",
              "\n",
              "// Listen for the removal of the full notebook cells\n",
              "var notebookContainer = gd.closest('#notebook-container');\n",
              "if (notebookContainer) {{\n",
              "    x.observe(notebookContainer, {childList: true});\n",
              "}}\n",
              "\n",
              "// Listen for the clearing of the current output cell\n",
              "var outputEl = gd.closest('.output');\n",
              "if (outputEl) {{\n",
              "    x.observe(outputEl, {childList: true});\n",
              "}}\n",
              "\n",
              "                        })                };                            </script>        </div>\n",
              "</body>\n",
              "</html>"
            ]
          },
          "metadata": {},
          "output_type": "display_data"
        }
      ],
      "source": [
        "\n",
        "grouped_data = pa.groupby('Year').agg({'Prediction': 'sum', 'Actual Values': 'sum'}).reset_index()\n",
        "\n",
        "trace_pred = go.Scatter(x=grouped_data['Year'], y=grouped_data['Prediction'], mode='lines', name='Prediction', line=dict(color='red'))\n",
        "trace_actual = go.Scatter(x=grouped_data['Year'], y=grouped_data['Actual Values'], mode='lines', name='Actual Values', line=dict(color='blue'))\n",
        "\n",
        "fig = go.Figure([trace_pred, trace_actual])\n",
        "fig.update_layout(\n",
        "    title='GRU',\n",
        "    xaxis=dict(title='Year', tickfont=dict(size=14), dtick=1),\n",
        "    yaxis=dict(title='Total Income (in Million Rs.)', tickfont=dict(size=14)),\n",
        "    legend=dict(font=dict(size=14))\n",
        ")\n",
        "\n",
        "fig.show()\n"
      ]
    },
    {
      "cell_type": "code",
      "execution_count": null,
      "metadata": {
        "id": "IKhelRCfYmoS"
      },
      "outputs": [],
      "source": [
        "dataf={'model':['LSTM', 'GRU'],\n",
        "       'mse_tr':[],\n",
        "       'mse_tt':[],\n",
        "       'r2_tr':[],\n",
        "       'r2_tt':[],\n",
        "       'mape_tt':[],\n",
        "       'mape_tr':[],\n",
        "       'mae_tt':[],\n",
        "       'mae_tr':[]}"
      ]
    }
  ],
  "metadata": {
    "colab": {
      "provenance": []
    },
    "kernelspec": {
      "display_name": "Python 3",
      "name": "python3"
    },
    "language_info": {
      "name": "python"
    }
  },
  "nbformat": 4,
  "nbformat_minor": 0
}
