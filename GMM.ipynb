{
  "cells": [
    {
      "cell_type": "code",
      "execution_count": null,
      "metadata": {
        "colab": {
          "base_uri": "https://localhost:8080/"
        },
        "id": "FGvOOcURbH2U",
        "outputId": "97075fa6-1e18-4a45-f44c-69d1515db427"
      },
      "outputs": [
        {
          "name": "stdout",
          "output_type": "stream",
          "text": [
            "Collecting pydynpd\n",
            "  Downloading pydynpd-0.2.1-py3-none-any.whl.metadata (12 kB)\n",
            "Requirement already satisfied: numpy in /usr/local/lib/python3.10/dist-packages (from pydynpd) (1.25.2)\n",
            "Requirement already satisfied: scipy in /usr/local/lib/python3.10/dist-packages (from pydynpd) (1.11.4)\n",
            "Requirement already satisfied: prettytable in /usr/local/lib/python3.10/dist-packages (from pydynpd) (3.10.2)\n",
            "Requirement already satisfied: pandas in /usr/local/lib/python3.10/dist-packages (from pydynpd) (2.0.3)\n",
            "Requirement already satisfied: python-dateutil>=2.8.2 in /usr/local/lib/python3.10/dist-packages (from pandas->pydynpd) (2.8.2)\n",
            "Requirement already satisfied: pytz>=2020.1 in /usr/local/lib/python3.10/dist-packages (from pandas->pydynpd) (2023.4)\n",
            "Requirement already satisfied: tzdata>=2022.1 in /usr/local/lib/python3.10/dist-packages (from pandas->pydynpd) (2024.1)\n",
            "Requirement already satisfied: wcwidth in /usr/local/lib/python3.10/dist-packages (from prettytable->pydynpd) (0.2.13)\n",
            "Requirement already satisfied: six>=1.5 in /usr/local/lib/python3.10/dist-packages (from python-dateutil>=2.8.2->pandas->pydynpd) (1.16.0)\n",
            "Downloading pydynpd-0.2.1-py3-none-any.whl (26 kB)\n",
            "Installing collected packages: pydynpd\n",
            "Successfully installed pydynpd-0.2.1\n"
          ]
        }
      ],
      "source": [
        "pip install pydynpd"
      ]
    },
    {
      "cell_type": "code",
      "execution_count": null,
      "metadata": {
        "id": "mwDIEWXjbLjp"
      },
      "outputs": [],
      "source": [
        "import pandas as pd\n",
        "from  pydynpd import regression\n",
        "from google.colab import drive"
      ]
    },
    {
      "cell_type": "markdown",
      "metadata": {},
      "source": [
        "Accessing drive"
      ]
    },
    {
      "cell_type": "code",
      "execution_count": null,
      "metadata": {
        "colab": {
          "base_uri": "https://localhost:8080/"
        },
        "id": "5XgWOBr_bSX8",
        "outputId": "02754c43-2aaf-4a65-e8d8-bfc5ad6f738a"
      },
      "outputs": [
        {
          "name": "stdout",
          "output_type": "stream",
          "text": [
            "Mounted at /content/drive\n"
          ]
        }
      ],
      "source": [
        "drive.mount('/content/drive')"
      ]
    },
    {
      "cell_type": "markdown",
      "metadata": {},
      "source": [
        "Reading data from the excel file"
      ]
    },
    {
      "cell_type": "code",
      "execution_count": null,
      "metadata": {
        "id": "Vxw-wguybe2V"
      },
      "outputs": [],
      "source": [
        "dfr = pd.read_excel(r'/content/drive/My Drive/CMIE_PROJECT/panel.xlsx', sheet_name='mainpanel')"
      ]
    },
    {
      "cell_type": "markdown",
      "metadata": {},
      "source": [
        "Dropping irrelevant variables"
      ]
    },
    {
      "cell_type": "code",
      "execution_count": null,
      "metadata": {
        "id": "5pxkkX2zpPyQ"
      },
      "outputs": [],
      "source": [
        "dfr = dfr.drop(columns=['Total assets','Net fixed assets','Export / Sales (%)','IT/ITES & other professional services','Additions to computers and IT systems during the year','Gross software','Net profit margin','Net cash inflow or (outflow) from investing activities','Size','Total forex earnings / Total income (%)','Raw material imports / Raw material purchases (%)', 'Gross computers and IT systems'])\n"
      ]
    },
    {
      "cell_type": "code",
      "execution_count": null,
      "metadata": {},
      "outputs": [],
      "source": [
        "df=dfr.copy()"
      ]
    },
    {
      "cell_type": "code",
      "execution_count": null,
      "metadata": {
        "id": "0RssN8Rsn__x"
      },
      "outputs": [],
      "source": [
        "df.columns = df.columns.str.replace(' ', '_')"
      ]
    },
    {
      "cell_type": "markdown",
      "metadata": {},
      "source": [
        "Filling missing values, linearly"
      ]
    },
    {
      "cell_type": "code",
      "execution_count": null,
      "metadata": {
        "id": "R3mucHDjnZfa"
      },
      "outputs": [],
      "source": [
        "def fill_nan_linearly(column):\n",
        "    return column.interpolate(method='linear', limit_direction='both')\n",
        "\n",
        "filled_df = df.groupby('Companies').apply(lambda group: group.apply(fill_nan_linearly, axis=0))\n",
        "filled_df.reset_index(drop=True, inplace=True)"
      ]
    },
    {
      "cell_type": "markdown",
      "metadata": {},
      "source": [
        "Creating Dummies of Year"
      ]
    },
    {
      "cell_type": "code",
      "execution_count": null,
      "metadata": {
        "id": "Bw52hJTzmg3I"
      },
      "outputs": [],
      "source": [
        "df=pd.get_dummies(df, columns=['Year'])\n",
        "df['Year']=dfr['Year']"
      ]
    },
    {
      "cell_type": "markdown",
      "metadata": {},
      "source": [
        "ModelL: Lag2 and Lag3 of Total income. Total_expenses, Computer_IT,_net_addition_in_year as IV. Time dummies included"
      ]
    },
    {
      "cell_type": "code",
      "execution_count": null,
      "metadata": {
        "id": "wxohbtCqnT52"
      },
      "outputs": [],
      "source": [
        "command_str='Total_income L(1:?).Total_income Computer_IT,_net_addition_in_year Net_computers_and_IT_systems Net_plant_&_machinery,_computers_and_electrical_installations Net_software Profit_after_tax Total_expenses | gmm(Total_income, 2:3) gmm(Total_expenses, 1:.) iv(Computer_IT,_net_addition_in_year) | timedumm'"
      ]
    },
    {
      "cell_type": "code",
      "execution_count": null,
      "metadata": {
        "colab": {
          "base_uri": "https://localhost:8080/"
        },
        "id": "BlSPCexSqtlg",
        "outputId": "d4c9383a-6104-4d87-cf97-5037f0c3c9ec"
      },
      "outputs": [
        {
          "name": "stdout",
          "output_type": "stream",
          "text": [
            " m1\n",
            " Dynamic panel-data estimation, two-step system GMM\n",
            " Group variable: Companies                         Number of obs = 47944    \n",
            " Time variable: Year                               Min obs per group: 0     \n",
            " Number of instruments = 156                       Max obs per group: 12    \n",
            " Number of groups = 4009                           Avg obs per group: 11.96 \n",
            "+---------------------------------------------------------------+------------+---------------------+------------+-----------+-----+\n",
            "|                          Total_income                         |   coef.    | Corrected Std. Err. |     z      |   P>|z|   |     |\n",
            "+---------------------------------------------------------------+------------+---------------------+------------+-----------+-----+\n",
            "|                        L1.Total_income                        | 0.0471605  |      0.0285738      | 1.6504816  | 0.0988445 |     |\n",
            "|               Computer_IT,_net_addition_in_year               | 0.0636591  |      0.1015073      | 0.6271375  | 0.5305691 |     |\n",
            "|                  Net_computers_and_IT_systems                 | 0.3501624  |      0.1370258      | 2.5554490  | 0.0106051 |  *  |\n",
            "| Net_plant_&_machinery,_computers_and_electrical_installations | 0.0088625  |      0.0043877      | 2.0198420  | 0.0433998 |  *  |\n",
            "|                          Net_software                         | 0.3516070  |      0.2363426      | 1.4877004  | 0.1368299 |     |\n",
            "|                        Profit_after_tax                       | 0.9632984  |      0.0219994      | 43.7874916 | 0.0000000 | *** |\n",
            "|                         Total_expenses                        | 0.9454820  |      0.0243217      | 38.8740755 | 0.0000000 | *** |\n",
            "|                           Year_2012                           | 2.4486542  |      11.2043922     | 0.2185441  | 0.8270052 |     |\n",
            "|                           Year_2013                           | 2.4486542  |      11.2043922     | 0.2185441  | 0.8270052 |     |\n",
            "|                           Year_2014                           | -3.4339532 |      8.0824546      | -0.4248651 | 0.6709350 |     |\n",
            "|                           Year_2015                           | -3.4339532 |      8.0824546      | -0.4248651 | 0.6709350 |     |\n",
            "|                           Year_2016                           | -6.3219755 |      8.6742838      | -0.7288182 | 0.4661129 |     |\n",
            "|                           Year_2017                           | -6.3219755 |      8.6742838      | -0.7288182 | 0.4661129 |     |\n",
            "|                           Year_2018                           | -5.6323617 |      11.1184372     | -0.5065785 | 0.6124506 |     |\n",
            "|                           Year_2019                           | -5.6323617 |      11.1184372     | -0.5065785 | 0.6124506 |     |\n",
            "|                           Year_2020                           | -8.3578274 |      11.7747866     | -0.7098071 | 0.4778238 |     |\n",
            "|                           Year_2021                           | -8.3578274 |      11.7747866     | -0.7098071 | 0.4778238 |     |\n",
            "|                           Year_2022                           | -0.0902256 |      7.8582083      | -0.0114817 | 0.9908391 |     |\n",
            "|                           Year_2023                           | -0.0902256 |      7.8582083      | -0.0114817 | 0.9908391 |     |\n",
            "|                              _con                             | 11.3536869 |      20.7247790     | 0.5478315  | 0.5838076 |     |\n",
            "+---------------------------------------------------------------+------------+---------------------+------------+-----------+-----+\n",
            "Hansen test of overid. restrictions: chi(136) = 160.900 Prob > Chi2 = 0.071\n",
            "Arellano-Bond test for AR(1) in first differences: z = -1.46 Pr > z =0.145\n",
            "Arellano-Bond test for AR(2) in first differences: z = -0.48 Pr > z =0.630\n",
            "\n",
            " m2\n",
            " Dynamic panel-data estimation, two-step system GMM\n",
            " Group variable: Companies                         Number of obs = 43984    \n",
            " Time variable: Year                               Min obs per group: 0     \n",
            " Number of instruments = 163                       Max obs per group: 11    \n",
            " Number of groups = 4009                           Avg obs per group: 10.97 \n",
            "+---------------------------------------------------------------+-------------+---------------------+------------+-----------+-----+\n",
            "|                          Total_income                         |    coef.    | Corrected Std. Err. |     z      |   P>|z|   |     |\n",
            "+---------------------------------------------------------------+-------------+---------------------+------------+-----------+-----+\n",
            "|                        L1.Total_income                        |  0.0521494  |      0.0416417      | 1.2523366  | 0.2104472 |     |\n",
            "|                        L2.Total_income                        |  -0.0081916 |      0.0115253      | -0.7107465 | 0.4772414 |     |\n",
            "|               Computer_IT,_net_addition_in_year               |  0.0764498  |      0.1055182      | 0.7245184  | 0.4687476 |     |\n",
            "|                  Net_computers_and_IT_systems                 |  0.3198671  |      0.1323635      | 2.4165814  | 0.0156670 |  *  |\n",
            "| Net_plant_&_machinery,_computers_and_electrical_installations |  0.0084254  |      0.0042837      | 1.9668543  | 0.0492000 |  *  |\n",
            "|                          Net_software                         |  0.3529896  |      0.2360021      | 1.4957053  | 0.1347305 |     |\n",
            "|                        Profit_after_tax                       |  0.9641665  |      0.0260031      | 37.0789562 | 0.0000000 | *** |\n",
            "|                         Total_expenses                        |  0.9477612  |      0.0276145      | 34.3211116 | 0.0000000 | *** |\n",
            "|                           Year_2013                           |  -0.0000000 |         nan         |    nan     |    nan    |     |\n",
            "|                           Year_2014                           |  -2.3467259 |      11.7386374     | -0.1999147 | 0.8415473 |     |\n",
            "|                           Year_2015                           |  -2.3467259 |      11.7386374     | -0.1999147 | 0.8415473 |     |\n",
            "|                           Year_2016                           |  -6.7077991 |      11.2922395     | -0.5940185 | 0.5524997 |     |\n",
            "|                           Year_2017                           |  -6.7077991 |      11.2922395     | -0.5940185 | 0.5524997 |     |\n",
            "|                           Year_2018                           |  -6.8373145 |      12.0939605     | -0.5653495 | 0.5718361 |     |\n",
            "|                           Year_2019                           |  -6.8373145 |      12.0939605     | -0.5653495 | 0.5718361 |     |\n",
            "|                           Year_2020                           | -10.0410718 |      11.8687988     | -0.8460057 | 0.3975495 |     |\n",
            "|                           Year_2021                           | -10.0410718 |      11.8687988     | -0.8460057 | 0.3975495 |     |\n",
            "|                           Year_2022                           |  -0.2319017 |      9.0173841      | -0.0257172 | 0.9794829 |     |\n",
            "|                           Year_2023                           |  -0.2319017 |      9.0173841      | -0.0257172 | 0.9794829 |     |\n",
            "|                              _con                             |  13.4558619 |      19.9917351     | 0.6730712  | 0.5009020 |     |\n",
            "+---------------------------------------------------------------+-------------+---------------------+------------+-----------+-----+\n",
            "Hansen test of overid. restrictions: chi(143) = 165.903 Prob > Chi2 = 0.092\n",
            "Arellano-Bond test for AR(1) in first differences: z = -1.50 Pr > z =0.135\n",
            "Arellano-Bond test for AR(2) in first differences: z = -0.29 Pr > z =0.771\n",
            "\n",
            " m3\n",
            " Dynamic panel-data estimation, two-step system GMM\n",
            " Group variable: Companies                         Number of obs = 40002   \n",
            " Time variable: Year                               Min obs per group: 0    \n",
            " Number of instruments = 166                       Max obs per group: 10   \n",
            " Number of groups = 4009                           Avg obs per group: 9.98 \n",
            "+---------------------------------------------------------------+------------+---------------------+------------+-----------+-----+\n",
            "|                          Total_income                         |   coef.    | Corrected Std. Err. |     z      |   P>|z|   |     |\n",
            "+---------------------------------------------------------------+------------+---------------------+------------+-----------+-----+\n",
            "|                        L1.Total_income                        | 0.0526947  |      0.0439804      | 1.1981413  | 0.2308620 |     |\n",
            "|                        L2.Total_income                        | -0.0052156 |      0.0184983      | -0.2819513 | 0.7779809 |     |\n",
            "|                        L3.Total_income                        | -0.0075573 |      0.0142779      | -0.5292973 | 0.5965993 |     |\n",
            "|               Computer_IT,_net_addition_in_year               | 0.0350342  |      0.0978092      | 0.3581890  | 0.7202019 |     |\n",
            "|                  Net_computers_and_IT_systems                 | 0.3427899  |      0.1500576      | 2.2843893  | 0.0223487 |  *  |\n",
            "| Net_plant_&_machinery,_computers_and_electrical_installations | 0.0079223  |      0.0042725      | 1.8542603  | 0.0637019 |     |\n",
            "|                          Net_software                         | 0.3722587  |      0.2403928      | 1.5485433  | 0.1214915 |     |\n",
            "|                        Profit_after_tax                       | 0.9658264  |      0.0279023      | 34.6146235 | 0.0000000 | *** |\n",
            "|                         Total_expenses                        | 0.9507793  |      0.0296369      | 32.0809050 | 0.0000000 | *** |\n",
            "|                           Year_2014                           | -0.0000000 |      0.0000000      | -0.3173087 | 0.7510094 |     |\n",
            "|                           Year_2015                           | -0.0000000 |      0.0000000      | -0.7328976 | 0.4636209 |     |\n",
            "|                           Year_2016                           | -2.4889923 |      6.8200045      | -0.3649546 | 0.7151453 |     |\n",
            "|                           Year_2017                           | -2.4889923 |      6.8200045      | -0.3649546 | 0.7151453 |     |\n",
            "|                           Year_2018                           | -3.4305875 |      8.4651677      | -0.4052592 | 0.6852870 |     |\n",
            "|                           Year_2019                           | -3.4305875 |      8.4651677      | -0.4052592 | 0.6852870 |     |\n",
            "|                           Year_2020                           | -9.4050221 |      6.3665208      | -1.4772624 | 0.1396053 |     |\n",
            "|                           Year_2021                           | -9.4050221 |      6.3665208      | -1.4772624 | 0.1396053 |     |\n",
            "|                           Year_2022                           | -0.9991989 |      5.4434213      | -0.1835608 | 0.8543580 |     |\n",
            "|                           Year_2023                           | -0.9991989 |      5.4434213      | -0.1835608 | 0.8543580 |     |\n",
            "|                              _con                             | 13.2895916 |      26.3646982     | 0.5040677  | 0.6142138 |     |\n",
            "+---------------------------------------------------------------+------------+---------------------+------------+-----------+-----+\n",
            "Hansen test of overid. restrictions: chi(146) = 163.897 Prob > Chi2 = 0.148\n",
            "Arellano-Bond test for AR(1) in first differences: z = -1.48 Pr > z =0.139\n",
            "Arellano-Bond test for AR(2) in first differences: z = -0.52 Pr > z =0.604\n",
            "\n",
            " m4\n",
            " Dynamic panel-data estimation, two-step system GMM\n",
            " Group variable: Companies                         Number of obs = 36013   \n",
            " Time variable: Year                               Min obs per group: 0    \n",
            " Number of instruments = 167                       Max obs per group: 9    \n",
            " Number of groups = 4009                           Avg obs per group: 8.98 \n",
            "+---------------------------------------------------------------+------------+---------------------+------------+-----------+-----+\n",
            "|                          Total_income                         |   coef.    | Corrected Std. Err. |     z      |   P>|z|   |     |\n",
            "+---------------------------------------------------------------+------------+---------------------+------------+-----------+-----+\n",
            "|                        L1.Total_income                        | 0.0533607  |      0.0462649      | 1.1533734  | 0.2487572 |     |\n",
            "|                        L2.Total_income                        | -0.0044894 |      0.0210833      | -0.2129377 | 0.8313756 |     |\n",
            "|                        L3.Total_income                        | 0.0063619  |      0.0196371      | 0.3239756  | 0.7459565 |     |\n",
            "|                        L4.Total_income                        | -0.0165352 |      0.0088301      | -1.8725815 | 0.0611262 |     |\n",
            "|               Computer_IT,_net_addition_in_year               | -0.0086589 |      0.0655163      | -0.1321642 | 0.8948544 |     |\n",
            "|                  Net_computers_and_IT_systems                 | 0.3475186  |      0.1838811      | 1.8899087  | 0.0587702 |     |\n",
            "| Net_plant_&_machinery,_computers_and_electrical_installations | 0.0082477  |      0.0051393      | 1.6048324  | 0.1085307 |     |\n",
            "|                          Net_software                         | 0.3724356  |      0.2451904      | 1.5189649  | 0.1287713 |     |\n",
            "|                        Profit_after_tax                       | 0.9647612  |      0.0285401      | 33.8037458 | 0.0000000 | *** |\n",
            "|                         Total_expenses                        | 0.9506434  |      0.0317598      | 29.9323105 | 0.0000000 | *** |\n",
            "|                           Year_2015                           | 0.0000000  |      0.0000000      | 0.1550702  | 0.8767659 |     |\n",
            "|                           Year_2016                           | -0.0000000 |      0.0000000      | -0.4354611 | 0.6632278 |     |\n",
            "|                           Year_2017                           | -0.0000000 |      0.0000000      | -0.1957566 | 0.8448007 |     |\n",
            "|                           Year_2018                           | 0.5381179  |      5.8234180      | 0.0924058  | 0.9263756 |     |\n",
            "|                           Year_2019                           | 0.5381179  |      5.8234180      | 0.0924058  | 0.9263756 |     |\n",
            "|                           Year_2020                           | -8.4808779 |      5.0950195      | -1.6645428 | 0.0960040 |     |\n",
            "|                           Year_2021                           | -8.4808779 |      5.0950195      | -1.6645428 | 0.0960040 |     |\n",
            "|                           Year_2022                           | 0.0409382  |      5.2801022      | 0.0077533  | 0.9938138 |     |\n",
            "|                           Year_2023                           | 0.0409382  |      5.2801022      | 0.0077533  | 0.9938138 |     |\n",
            "|                              _con                             | 12.2590114 |      28.9816704     | 0.4229919  | 0.6723012 |     |\n",
            "+---------------------------------------------------------------+------------+---------------------+------------+-----------+-----+\n",
            "Hansen test of overid. restrictions: chi(147) = 159.409 Prob > Chi2 = 0.229\n",
            "Arellano-Bond test for AR(1) in first differences: z = -1.50 Pr > z =0.133\n",
            "Arellano-Bond test for AR(2) in first differences: z = -0.54 Pr > z =0.588\n",
            "\n",
            " m5\n",
            " Dynamic panel-data estimation, two-step system GMM\n",
            " Group variable: Companies                         Number of obs = 32020   \n",
            " Time variable: Year                               Min obs per group: 0    \n",
            " Number of instruments = 166                       Max obs per group: 8    \n",
            " Number of groups = 4009                           Avg obs per group: 7.99 \n",
            "+---------------------------------------------------------------+------------+---------------------+------------+-----------+-----+\n",
            "|                          Total_income                         |   coef.    | Corrected Std. Err. |     z      |   P>|z|   |     |\n",
            "+---------------------------------------------------------------+------------+---------------------+------------+-----------+-----+\n",
            "|                        L1.Total_income                        | 0.0521182  |      0.0504936      | 1.0321741  | 0.3019906 |     |\n",
            "|                        L2.Total_income                        | -0.0058574 |      0.0228457      | -0.2563891 | 0.7976504 |     |\n",
            "|                        L3.Total_income                        | 0.0057376  |      0.0228425      | 0.2511801  | 0.8016749 |     |\n",
            "|                        L4.Total_income                        | -0.0099652 |      0.0142047      | -0.7015434 | 0.4829640 |     |\n",
            "|                        L5.Total_income                        | -0.0049233 |      0.0102158      | -0.4819361 | 0.6298513 |     |\n",
            "|               Computer_IT,_net_addition_in_year               | -0.0012102 |      0.0499197      | -0.0242424 | 0.9806592 |     |\n",
            "|                  Net_computers_and_IT_systems                 | 0.3873714  |      0.1721842      | 2.2497507  | 0.0244648 |  *  |\n",
            "| Net_plant_&_machinery,_computers_and_electrical_installations | 0.0088338  |      0.0055591      | 1.5890552  | 0.1120479 |     |\n",
            "|                          Net_software                         | 0.3469755  |      0.2011821      | 1.7246834  | 0.0845845 |     |\n",
            "|                        Profit_after_tax                       | 0.9643471  |      0.0326370      | 29.5476785 | 0.0000000 | *** |\n",
            "|                         Total_expenses                        | 0.9510952  |      0.0359490      | 26.4567556 | 0.0000000 | *** |\n",
            "|                           Year_2016                           | -0.0000000 |      0.0000000      | -0.5552258 | 0.5787403 |     |\n",
            "|                           Year_2017                           | -0.0000000 |      0.0000000      | -0.4352908 | 0.6633513 |     |\n",
            "|                           Year_2018                           | 0.0000000  |      0.0000000      |    nan     |    nan    |     |\n",
            "|                           Year_2019                           | 0.0000000  |      0.0000000      |    nan     |    nan    |     |\n",
            "|                           Year_2020                           | -7.5679576 |      5.3696781      | -1.4093876 | 0.1587206 |     |\n",
            "|                           Year_2021                           | -7.5679576 |      5.3696781      | -1.4093876 | 0.1587206 |     |\n",
            "|                           Year_2022                           | -0.7357571 |      5.6165801      | -0.1309974 | 0.8957774 |     |\n",
            "|                           Year_2023                           | -0.7357571 |      5.6165801      | -0.1309974 | 0.8957774 |     |\n",
            "|                              _con                             | 17.7159296 |      31.9534282     | 0.5544297  | 0.5792848 |     |\n",
            "+---------------------------------------------------------------+------------+---------------------+------------+-----------+-----+\n",
            "Hansen test of overid. restrictions: chi(146) = 146.543 Prob > Chi2 = 0.472\n",
            "Arellano-Bond test for AR(1) in first differences: z = -1.58 Pr > z =0.114\n",
            "Arellano-Bond test for AR(2) in first differences: z = -0.71 Pr > z =0.475\n",
            "\n",
            " m6\n",
            " Dynamic panel-data estimation, two-step system GMM\n",
            " Group variable: Companies                         Number of obs = 28027   \n",
            " Time variable: Year                               Min obs per group: 0    \n",
            " Number of instruments = 163                       Max obs per group: 7    \n",
            " Number of groups = 4009                           Avg obs per group: 6.99 \n",
            "+---------------------------------------------------------------+------------+---------------------+------------+-----------+-----+\n",
            "|                          Total_income                         |   coef.    | Corrected Std. Err. |     z      |   P>|z|   |     |\n",
            "+---------------------------------------------------------------+------------+---------------------+------------+-----------+-----+\n",
            "|                        L1.Total_income                        | 0.0419202  |      0.0439396      | 0.9540419  | 0.3400625 |     |\n",
            "|                        L2.Total_income                        | -0.0041238 |      0.0196548      | -0.2098097 | 0.8338162 |     |\n",
            "|                        L3.Total_income                        | -0.0037060 |      0.0217670      | -0.1702579 | 0.8648073 |     |\n",
            "|                        L4.Total_income                        | 0.0175653  |      0.0143351      | 1.2253389  | 0.2204476 |     |\n",
            "|                        L5.Total_income                        | -0.0573237 |      0.0355919      | -1.6105831 | 0.1072706 |     |\n",
            "|                        L6.Total_income                        | 0.0391941  |      0.0296435      | 1.3221821  | 0.1861075 |     |\n",
            "|               Computer_IT,_net_addition_in_year               | 0.1161014  |      0.1491306      | 0.7785219  | 0.4362614 |     |\n",
            "|                  Net_computers_and_IT_systems                 | 0.4390657  |      0.1440315      | 3.0484000  | 0.0023006 |  ** |\n",
            "| Net_plant_&_machinery,_computers_and_electrical_installations | 0.0087022  |      0.0048467      | 1.7955013  | 0.0725739 |     |\n",
            "|                          Net_software                         | 0.3742671  |      0.2720505      | 1.3757264  | 0.1689064 |     |\n",
            "|                        Profit_after_tax                       | 0.9712514  |      0.0276486      | 35.1284510 | 0.0000000 | *** |\n",
            "|                         Total_expenses                        | 0.9566722  |      0.0293501      | 32.5951375 | 0.0000000 | *** |\n",
            "|                           Year_2017                           | 0.0000000  |      0.0000000      | 1.2822756  | 0.1997460 |     |\n",
            "|                           Year_2018                           | 0.0000000  |      0.0000000      |    nan     |    nan    |     |\n",
            "|                           Year_2019                           | 0.0000000  |      0.0000000      |    nan     |    nan    |     |\n",
            "|                           Year_2020                           | 0.0000000  |      0.0000000      |    nan     |    nan    |     |\n",
            "|                           Year_2021                           | 0.0000000  |      0.0000000      |    nan     |    nan    |     |\n",
            "|                           Year_2022                           | -8.3014843 |      7.5516641      | -1.0992921 | 0.2716407 |     |\n",
            "|                           Year_2023                           | -8.3014843 |      7.5516641      | -1.0992921 | 0.2716407 |     |\n",
            "|                              _con                             | 21.5061456 |      23.5107704     | 0.9147359  | 0.3603303 |     |\n",
            "+---------------------------------------------------------------+------------+---------------------+------------+-----------+-----+\n",
            "Hansen test of overid. restrictions: chi(143) = 135.456 Prob > Chi2 = 0.661\n",
            "Arellano-Bond test for AR(1) in first differences: z = -1.71 Pr > z =0.088\n",
            "Arellano-Bond test for AR(2) in first differences: z = -0.97 Pr > z =0.333\n",
            "\n",
            " m7\n",
            " Dynamic panel-data estimation, two-step system GMM\n",
            " Group variable: Companies                         Number of obs = 24031   \n",
            " Time variable: Year                               Min obs per group: 0    \n",
            " Number of instruments = 158                       Max obs per group: 6    \n",
            " Number of groups = 4009                           Avg obs per group: 5.99 \n",
            "+---------------------------------------------------------------+------------+---------------------+------------+-----------+-----+\n",
            "|                          Total_income                         |   coef.    | Corrected Std. Err. |     z      |   P>|z|   |     |\n",
            "+---------------------------------------------------------------+------------+---------------------+------------+-----------+-----+\n",
            "|                        L1.Total_income                        | 0.0423365  |      0.0452949      | 0.9346864  | 0.3499499 |     |\n",
            "|                        L2.Total_income                        | -0.0055893 |      0.0206780      | -0.2703009 | 0.7869288 |     |\n",
            "|                        L3.Total_income                        | 0.0106690  |      0.0205422      | 0.5193716  | 0.6035016 |     |\n",
            "|                        L4.Total_income                        | 0.0105297  |      0.0097332      | 1.0818334  | 0.2793266 |     |\n",
            "|                        L5.Total_income                        | -0.0679017 |      0.0475252      | -1.4287516 | 0.1530756 |     |\n",
            "|                        L6.Total_income                        | 0.0395729  |      0.0390483      | 1.0134330  | 0.3108534 |     |\n",
            "|                        L7.Total_income                        | 0.0066276  |      0.0075075      | 0.8827985  | 0.3773451 |     |\n",
            "|               Computer_IT,_net_addition_in_year               | 0.0514215  |      0.0968885      | 0.5307289  | 0.5956067 |     |\n",
            "|                  Net_computers_and_IT_systems                 | 0.4496518  |      0.1904505      | 2.3609898  | 0.0182262 |  *  |\n",
            "| Net_plant_&_machinery,_computers_and_electrical_installations | 0.0073152  |      0.0061242      | 1.1944731  | 0.2322930 |     |\n",
            "|                          Net_software                         | 0.3342970  |      0.3384393      | 0.9877607  | 0.3232699 |     |\n",
            "|                        Profit_after_tax                       | 0.9664994  |      0.0296382      | 32.6099198 | 0.0000000 | *** |\n",
            "|                         Total_expenses                        | 0.9563675  |      0.0328973      | 29.0712666 | 0.0000000 | *** |\n",
            "|                           Year_2018                           | 0.0000000  |      0.0000000      |    nan     |    nan    |     |\n",
            "|                           Year_2019                           | 0.0000000  |      0.0000000      |    nan     |    nan    |     |\n",
            "|                           Year_2020                           | 0.0000000  |      0.0000000      |    nan     |    nan    |     |\n",
            "|                           Year_2021                           | 0.0000000  |      0.0000000      |    nan     |    nan    |     |\n",
            "|                           Year_2022                           | 0.0000000  |      0.0000000      |    nan     |    nan    |     |\n",
            "|                           Year_2023                           | 0.0000000  |      0.0000000      |    nan     |    nan    |     |\n",
            "|                              _con                             | 10.4580827 |      29.6970519     | 0.3521590  | 0.7247191 |     |\n",
            "+---------------------------------------------------------------+------------+---------------------+------------+-----------+-----+\n",
            "Hansen test of overid. restrictions: chi(138) = 118.354 Prob > Chi2 = 0.886\n",
            "Arellano-Bond test for AR(1) in first differences: z = -1.67 Pr > z =0.094\n",
            "Arellano-Bond test for AR(2) in first differences: z = -0.94 Pr > z =0.347\n",
            "\n",
            " m8\n",
            " Dynamic panel-data estimation, two-step system GMM\n",
            " Group variable: Companies                         Number of obs = 20030   \n",
            " Time variable: Year                               Min obs per group: 0    \n",
            " Number of instruments = 151                       Max obs per group: 5    \n",
            " Number of groups = 4009                           Avg obs per group: 5.00 \n",
            "+---------------------------------------------------------------+------------+---------------------+------------+-----------+-----+\n",
            "|                          Total_income                         |   coef.    | Corrected Std. Err. |     z      |   P>|z|   |     |\n",
            "+---------------------------------------------------------------+------------+---------------------+------------+-----------+-----+\n",
            "|                        L1.Total_income                        | 0.0423584  |      0.0432411      | 0.9795852  | 0.3272909 |     |\n",
            "|                        L2.Total_income                        | -0.0093865 |      0.0192573      | -0.4874273 | 0.6259556 |     |\n",
            "|                        L3.Total_income                        | 0.0175914  |      0.0290133      | 0.6063199  | 0.5443023 |     |\n",
            "|                        L4.Total_income                        | 0.0039459  |      0.0210695      | 0.1872821  | 0.8514394 |     |\n",
            "|                        L5.Total_income                        | -0.0697549 |      0.0520079      | -1.3412372 | 0.1798435 |     |\n",
            "|                        L6.Total_income                        | 0.0381964  |      0.0376878      | 1.0134954  | 0.3108236 |     |\n",
            "|                        L7.Total_income                        | 0.0113826  |      0.0172450      | 0.6600519  | 0.5092205 |     |\n",
            "|                        L8.Total_income                        | 0.0084693  |      0.0162423      | 0.5214360  | 0.6020631 |     |\n",
            "|               Computer_IT,_net_addition_in_year               | 0.0464523  |      0.0674366      | 0.6888299  | 0.4909303 |     |\n",
            "|                  Net_computers_and_IT_systems                 | 0.4024481  |      0.2225827      | 1.8080837  | 0.0705935 |     |\n",
            "| Net_plant_&_machinery,_computers_and_electrical_installations | 0.0061852  |      0.0053522      | 1.1556440  | 0.2478268 |     |\n",
            "|                          Net_software                         | 0.2249651  |      0.2257902      | 0.9963455  | 0.3190823 |     |\n",
            "|                        Profit_after_tax                       | 0.9712488  |      0.0255740      | 37.9779982 | 0.0000000 | *** |\n",
            "|                         Total_expenses                        | 0.9538388  |      0.0308643      | 30.9043255 | 0.0000000 | *** |\n",
            "|                           Year_2019                           | 0.0000000  |      0.0000000      |    nan     |    nan    |     |\n",
            "|                           Year_2020                           | 0.0000000  |      0.0000000      |    nan     |    nan    |     |\n",
            "|                           Year_2021                           | 0.0000000  |      0.0000000      |    nan     |    nan    |     |\n",
            "|                           Year_2022                           | 0.0000000  |      0.0000000      |    nan     |    nan    |     |\n",
            "|                           Year_2023                           | 0.0000000  |      0.0000000      |    nan     |    nan    |     |\n",
            "|                              _con                             | 19.7710677 |      43.5015691     | 0.4544909  | 0.6494755 |     |\n",
            "+---------------------------------------------------------------+------------+---------------------+------------+-----------+-----+\n",
            "Hansen test of overid. restrictions: chi(131) = 81.079 Prob > Chi2 = 1.000\n",
            "Arellano-Bond test for AR(1) in first differences: z = -1.62 Pr > z =0.105\n",
            "Arellano-Bond test for AR(2) in first differences: z = -0.98 Pr > z =0.327\n",
            "\n",
            " m9\n",
            " Dynamic panel-data estimation, two-step system GMM\n",
            " Group variable: Companies                         Number of obs = 16028   \n",
            " Time variable: Year                               Min obs per group: 0    \n",
            " Number of instruments = 142                       Max obs per group: 4    \n",
            " Number of groups = 4009                           Avg obs per group: 4.00 \n",
            "+---------------------------------------------------------------+------------+---------------------+------------+-----------+-----+\n",
            "|                          Total_income                         |   coef.    | Corrected Std. Err. |     z      |   P>|z|   |     |\n",
            "+---------------------------------------------------------------+------------+---------------------+------------+-----------+-----+\n",
            "|                        L1.Total_income                        | 0.0404561  |      0.0475175      | 0.8513938  | 0.3945507 |     |\n",
            "|                        L2.Total_income                        | -0.0061866 |      0.0196271      | -0.3152085 | 0.7526034 |     |\n",
            "|                        L3.Total_income                        | 0.0153497  |      0.0276333      | 0.5554786  | 0.5785673 |     |\n",
            "|                        L4.Total_income                        | 0.0082887  |      0.0208489      | 0.3975606  | 0.6909541 |     |\n",
            "|                        L5.Total_income                        | -0.0782242 |      0.0761494      | -1.0272460 | 0.3043046 |     |\n",
            "|                        L6.Total_income                        | 0.0377471  |      0.0571344      | 0.6606719  | 0.5088227 |     |\n",
            "|                        L7.Total_income                        | 0.0078284  |      0.0169870      | 0.4608453  | 0.6449096 |     |\n",
            "|                        L8.Total_income                        | 0.0178954  |      0.0201049      | 0.8901034  | 0.3734104 |     |\n",
            "|                        L9.Total_income                        | -0.0002464 |      0.0042451      | -0.0580502 | 0.9537086 |     |\n",
            "|               Computer_IT,_net_addition_in_year               | 0.0429705  |      0.1310365      | 0.3279277  | 0.7429663 |     |\n",
            "|                  Net_computers_and_IT_systems                 | 0.4713862  |      0.1835400      | 2.5683019  | 0.0102198 |  *  |\n",
            "| Net_plant_&_machinery,_computers_and_electrical_installations | 0.0048002  |      0.0053117      | 0.9037075  | 0.3661505 |     |\n",
            "|                          Net_software                         | 0.2997789  |      0.2480870      | 1.2083621  | 0.2269080 |     |\n",
            "|                        Profit_after_tax                       | 0.9698800  |      0.0245516      | 39.5036599 | 0.0000000 | *** |\n",
            "|                         Total_expenses                        | 0.9550349  |      0.0343208      | 27.8267055 | 0.0000000 | *** |\n",
            "|                           Year_2020                           | 0.0000000  |      0.0000000      |    nan     |    nan    |     |\n",
            "|                           Year_2021                           | 0.0000000  |      0.0000000      |    nan     |    nan    |     |\n",
            "|                           Year_2022                           | 0.0000000  |      0.0000000      |    nan     |    nan    |     |\n",
            "|                           Year_2023                           | 0.0000000  |      0.0000000      |    nan     |    nan    |     |\n",
            "|                              _con                             | 14.6817670 |      40.5252913     | 0.3622865  | 0.7171379 |     |\n",
            "+---------------------------------------------------------------+------------+---------------------+------------+-----------+-----+\n",
            "Hansen test of overid. restrictions: chi(122) = 74.175 Prob > Chi2 = 1.000\n",
            "Arellano-Bond test for AR(1) in first differences: z = -1.58 Pr > z =0.115\n",
            "Arellano-Bond test for AR(2) in first differences: z = -0.96 Pr > z =0.335\n",
            "\n",
            "models are sorted by bic\n",
            "+---------------------------------------------------------------+----------+----------+----------+----------+----------+----------+----------+----------+----------+\n",
            "|                           variables                           |    m3    |    m4    |    m5    |    m2    |    m6    |    m1    |    m7    |    m8    |    m9    |\n",
            "+---------------------------------------------------------------+----------+----------+----------+----------+----------+----------+----------+----------+----------+\n",
            "|                        L1.Total_income                        |  0.053   |  0.053   |  0.052   |  0.052   |  0.042   |  0.047   |  0.042   |  0.042   |  0.040   |\n",
            "|                                                               | (0.044)  | (0.046)  | (0.050)  | (0.042)  | (0.044)  | (0.029)  | (0.045)  | (0.043)  | (0.048)  |\n",
            "|                        L2.Total_income                        | -0.005   | -0.004   | -0.006   | -0.008   | -0.004   |          | -0.006   | -0.009   | -0.006   |\n",
            "|                                                               | (0.018)  | (0.021)  | (0.023)  | (0.012)  | (0.020)  |          | (0.021)  | (0.019)  | (0.020)  |\n",
            "|                        L3.Total_income                        | -0.008   |  0.006   |  0.006   |          | -0.004   |          |  0.011   |  0.018   |  0.015   |\n",
            "|                                                               | (0.014)  | (0.020)  | (0.023)  |          | (0.022)  |          | (0.021)  | (0.029)  | (0.028)  |\n",
            "|                        L4.Total_income                        |          | -0.017   | -0.010   |          |  0.018   |          |  0.011   |  0.004   |  0.008   |\n",
            "|                                                               |          | (0.009)  | (0.014)  |          | (0.014)  |          | (0.010)  | (0.021)  | (0.021)  |\n",
            "|                        L5.Total_income                        |          |          | -0.005   |          | -0.057   |          | -0.068   | -0.070   | -0.078   |\n",
            "|                                                               |          |          | (0.010)  |          | (0.036)  |          | (0.048)  | (0.052)  | (0.076)  |\n",
            "|                        L6.Total_income                        |          |          |          |          |  0.039   |          |  0.040   |  0.038   |  0.038   |\n",
            "|                                                               |          |          |          |          | (0.030)  |          | (0.039)  | (0.038)  | (0.057)  |\n",
            "|                        L7.Total_income                        |          |          |          |          |          |          |  0.007   |  0.011   |  0.008   |\n",
            "|                                                               |          |          |          |          |          |          | (0.008)  | (0.017)  | (0.017)  |\n",
            "|                        L8.Total_income                        |          |          |          |          |          |          |          |  0.008   |  0.018   |\n",
            "|                                                               |          |          |          |          |          |          |          | (0.016)  | (0.020)  |\n",
            "|                        L9.Total_income                        |          |          |          |          |          |          |          |          | -0.000   |\n",
            "|                                                               |          |          |          |          |          |          |          |          | (0.004)  |\n",
            "|               Computer_IT,_net_addition_in_year               |  0.035   | -0.009   | -0.001   |  0.076   |  0.116   |  0.064   |  0.051   |  0.046   |  0.043   |\n",
            "|                                                               | (0.098)  | (0.066)  | (0.050)  | (0.106)  | (0.149)  | (0.102)  | (0.097)  | (0.067)  | (0.131)  |\n",
            "|                  Net_computers_and_IT_systems                 |  0.343*  |  0.348   |  0.387*  |  0.320*  | 0.439**  |  0.350*  |  0.450*  |  0.402   |  0.471*  |\n",
            "|                                                               | (0.150)  | (0.184)  | (0.172)  | (0.132)  | (0.144)  | (0.137)  | (0.190)  | (0.223)  | (0.184)  |\n",
            "| Net_plant_&_machinery,_computers_and_electrical_installations |  0.008   |  0.008   |  0.009   |  0.008*  |  0.009   |  0.009*  |  0.007   |  0.006   |  0.005   |\n",
            "|                                                               | (0.004)  | (0.005)  | (0.006)  | (0.004)  | (0.005)  | (0.004)  | (0.006)  | (0.005)  | (0.005)  |\n",
            "|                          Net_software                         |  0.372   |  0.372   |  0.347   |  0.353   |  0.374   |  0.352   |  0.334   |  0.225   |  0.300   |\n",
            "|                                                               | (0.240)  | (0.245)  | (0.201)  | (0.236)  | (0.272)  | (0.236)  | (0.338)  | (0.226)  | (0.248)  |\n",
            "|                        Profit_after_tax                       | 0.966*** | 0.965*** | 0.964*** | 0.964*** | 0.971*** | 0.963*** | 0.966*** | 0.971*** | 0.970*** |\n",
            "|                                                               | (0.028)  | (0.029)  | (0.033)  | (0.026)  | (0.028)  | (0.022)  | (0.030)  | (0.026)  | (0.025)  |\n",
            "|                         Total_expenses                        | 0.951*** | 0.951*** | 0.951*** | 0.948*** | 0.957*** | 0.945*** | 0.956*** | 0.954*** | 0.955*** |\n",
            "|                                                               | (0.030)  | (0.032)  | (0.036)  | (0.028)  | (0.029)  | (0.024)  | (0.033)  | (0.031)  | (0.034)  |\n",
            "|                           Year_2014                           | -0.000   |          |          | -2.347   |          | -3.434   |          |          |          |\n",
            "|                                                               | (0.000)  |          |          | (11.739) |          | (8.082)  |          |          |          |\n",
            "|                           Year_2015                           | -0.000   |  0.000   |          | -2.347   |          | -3.434   |          |          |          |\n",
            "|                                                               | (0.000)  | (0.000)  |          | (11.739) |          | (8.082)  |          |          |          |\n",
            "|                           Year_2016                           | -2.489   | -0.000   | -0.000   | -6.708   |          | -6.322   |          |          |          |\n",
            "|                                                               | (6.820)  | (0.000)  | (0.000)  | (11.292) |          | (8.674)  |          |          |          |\n",
            "|                           Year_2017                           | -2.489   | -0.000   | -0.000   | -6.708   |  0.000   | -6.322   |          |          |          |\n",
            "|                                                               | (6.820)  | (0.000)  | (0.000)  | (11.292) | (0.000)  | (8.674)  |          |          |          |\n",
            "|                           Year_2018                           | -3.431   |  0.538   |  0.000   | -6.837   |  0.000   | -5.632   |  0.000   |          |          |\n",
            "|                                                               | (8.465)  | (5.823)  | (0.000)  | (12.094) | (0.000)  | (11.118) | (0.000)  |          |          |\n",
            "|                           Year_2019                           | -3.431   |  0.538   |  0.000   | -6.837   |  0.000   | -5.632   |  0.000   |  0.000   |          |\n",
            "|                                                               | (8.465)  | (5.823)  | (0.000)  | (12.094) | (0.000)  | (11.118) | (0.000)  | (0.000)  |          |\n",
            "|                           Year_2020                           | -9.405   | -8.481   | -7.568   | -10.041  |  0.000   | -8.358   |  0.000   |  0.000   |  0.000   |\n",
            "|                                                               | (6.367)  | (5.095)  | (5.370)  | (11.869) | (0.000)  | (11.775) | (0.000)  | (0.000)  | (0.000)  |\n",
            "|                           Year_2021                           | -9.405   | -8.481   | -7.568   | -10.041  |  0.000   | -8.358   |  0.000   |  0.000   |  0.000   |\n",
            "|                                                               | (6.367)  | (5.095)  | (5.370)  | (11.869) | (0.000)  | (11.775) | (0.000)  | (0.000)  | (0.000)  |\n",
            "|                           Year_2022                           | -0.999   |  0.041   | -0.736   | -0.232   | -8.301   | -0.090   |  0.000   |  0.000   |  0.000   |\n",
            "|                                                               | (5.443)  | (5.280)  | (5.617)  | (9.017)  | (7.552)  | (7.858)  | (0.000)  | (0.000)  | (0.000)  |\n",
            "|                           Year_2023                           | -0.999   |  0.041   | -0.736   | -0.232   | -8.301   | -0.090   |  0.000   |  0.000   |  0.000   |\n",
            "|                                                               | (5.443)  | (5.280)  | (5.617)  | (9.017)  | (7.552)  | (7.858)  | (0.000)  | (0.000)  | (0.000)  |\n",
            "|                           Year_2013                           |          |          |          | -0.000   |          |  2.449   |          |          |          |\n",
            "|                                                               |          |          |          |  (nan)   |          | (11.204) |          |          |          |\n",
            "|                           Year_2012                           |          |          |          |          |          |  2.449   |          |          |          |\n",
            "|                                                               |          |          |          |          |          | (11.204) |          |          |          |\n",
            "|                              _con                             | 13.290   | 12.259   | 17.716   | 13.456   | 21.506   | 11.354   | 10.458   | 19.771   | 14.682   |\n",
            "|                                                               | (26.365) | (28.982) | (31.953) | (19.992) | (23.511) | (20.725) | (29.697) | (43.502) | (40.525) |\n",
            "+---------------------------------------------------------------+----------+----------+----------+----------+----------+----------+----------+----------+----------+\n",
            "HTML output named \"output.html\" is located in folder /content\n",
            "'int' object has no attribute 'replace'\n",
            "\n",
            "\n",
            "MMSC_LU scores:\n",
            "+-------+----------+-----------+----------+-----------------------------------------------------------------------------------------------------------------------------------------------------------------------------------------------------------------------------------------------------------------------------------------------------------------------------------------------------------------------------------------------------------------------------------------------------------+\n",
            "| model |   aic    |    bic    |   hqic   | command str                                                                                                                                                                                                                                                                                                                                                                                                                                               |\n",
            "+-------+----------+-----------+----------+-----------------------------------------------------------------------------------------------------------------------------------------------------------------------------------------------------------------------------------------------------------------------------------------------------------------------------------------------------------------------------------------------------------------------------------------------------------+\n",
            "|   m3  | -130.103 | -1393.816 | -564.802 |  Total_income  L1.Total_income  L2.Total_income  L3.Total_income  Computer_IT,_net_addition_in_year  Net_computers_and_IT_systems  Net_plant_&_machinery,_computers_and_electrical_installations  Net_software  Profit_after_tax  Total_expenses | gmm(Total_income, 2:3) gmm(Total_expenses, 1:.) iv(Computer_IT,_net_addition_in_year) | timedumm                                                                                                       |\n",
            "|   m4  | -136.591 | -1393.353 | -571.151 |  Total_income  L1.Total_income  L2.Total_income  L3.Total_income  L4.Total_income  Computer_IT,_net_addition_in_year  Net_computers_and_IT_systems  Net_plant_&_machinery,_computers_and_electrical_installations  Net_software  Profit_after_tax  Total_expenses | gmm(Total_income, 2:3) gmm(Total_expenses, 1:.) iv(Computer_IT,_net_addition_in_year) | timedumm                                                                                      |\n",
            "|   m5  | -147.457 | -1378.452 | -575.603 |  Total_income  L1.Total_income  L2.Total_income  L3.Total_income  L4.Total_income  L5.Total_income  Computer_IT,_net_addition_in_year  Net_computers_and_IT_systems  Net_plant_&_machinery,_computers_and_electrical_installations  Net_software  Profit_after_tax  Total_expenses | gmm(Total_income, 2:3) gmm(Total_expenses, 1:.) iv(Computer_IT,_net_addition_in_year) | timedumm                                                                     |\n",
            "|   m2  | -122.097 | -1373.684 | -550.620 |  Total_income  L1.Total_income  L2.Total_income  Computer_IT,_net_addition_in_year  Net_computers_and_IT_systems  Net_plant_&_machinery,_computers_and_electrical_installations  Net_software  Profit_after_tax  Total_expenses | gmm(Total_income, 2:3) gmm(Total_expenses, 1:.) iv(Computer_IT,_net_addition_in_year) | timedumm                                                                                                                        |\n",
            "|   m6  | -152.544 | -1339.237 | -568.045 |  Total_income  L1.Total_income  L2.Total_income  L3.Total_income  L4.Total_income  L5.Total_income  L6.Total_income  Computer_IT,_net_addition_in_year  Net_computers_and_IT_systems  Net_plant_&_machinery,_computers_and_electrical_installations  Net_software  Profit_after_tax  Total_expenses | gmm(Total_income, 2:3) gmm(Total_expenses, 1:.) iv(Computer_IT,_net_addition_in_year) | timedumm                                                    |\n",
            "|   m1  | -113.100 | -1315.657 | -523.103 |  Total_income  L1.Total_income  Computer_IT,_net_addition_in_year  Net_computers_and_IT_systems  Net_plant_&_machinery,_computers_and_electrical_installations  Net_software  Profit_after_tax  Total_expenses | gmm(Total_income, 2:3) gmm(Total_expenses, 1:.) iv(Computer_IT,_net_addition_in_year) | timedumm                                                                                                                                         |\n",
            "|   m7  | -159.646 | -1283.753 | -556.302 |  Total_income  L1.Total_income  L2.Total_income  L3.Total_income  L4.Total_income  L5.Total_income  L6.Total_income  L7.Total_income  Computer_IT,_net_addition_in_year  Net_computers_and_IT_systems  Net_plant_&_machinery,_computers_and_electrical_installations  Net_software  Profit_after_tax  Total_expenses | gmm(Total_income, 2:3) gmm(Total_expenses, 1:.) iv(Computer_IT,_net_addition_in_year) | timedumm                                   |\n",
            "|   m8  | -182.921 | -1226.380 | -554.552 |  Total_income  L1.Total_income  L2.Total_income  L3.Total_income  L4.Total_income  L5.Total_income  L6.Total_income  L7.Total_income  L8.Total_income  Computer_IT,_net_addition_in_year  Net_computers_and_IT_systems  Net_plant_&_machinery,_computers_and_electrical_installations  Net_software  Profit_after_tax  Total_expenses | gmm(Total_income, 2:3) gmm(Total_expenses, 1:.) iv(Computer_IT,_net_addition_in_year) | timedumm                  |\n",
            "|   m9  | -171.825 | -1116.723 | -512.238 |  Total_income  L1.Total_income  L2.Total_income  L3.Total_income  L4.Total_income  L5.Total_income  L6.Total_income  L7.Total_income  L8.Total_income  L9.Total_income  Computer_IT,_net_addition_in_year  Net_computers_and_IT_systems  Net_plant_&_machinery,_computers_and_electrical_installations  Net_software  Profit_after_tax  Total_expenses | gmm(Total_income, 2:3) gmm(Total_expenses, 1:.) iv(Computer_IT,_net_addition_in_year) | timedumm |\n",
            "+-------+----------+-----------+----------+-----------------------------------------------------------------------------------------------------------------------------------------------------------------------------------------------------------------------------------------------------------------------------------------------------------------------------------------------------------------------------------------------------------------------------------------------------------+\n",
            "\n",
            "The following model(s) did not pass specification tests:\n",
            "+-------+-----------------------------------------------------------------------------------------------------------------------------------------------------------------------------------------------------------------------------------------------------------------------------------------------------------------------------------------------------------------------------------------------------------------------------------------------------------------------------+\n",
            "| model | command str                                                                                                                                                                                                                                                                                                                                                                                                                                                                 |\n",
            "+-------+-----------------------------------------------------------------------------------------------------------------------------------------------------------------------------------------------------------------------------------------------------------------------------------------------------------------------------------------------------------------------------------------------------------------------------------------------------------------------------+\n",
            "|  m10  |  Total_income  L1.Total_income  L2.Total_income  L3.Total_income  L4.Total_income  L5.Total_income  L6.Total_income  L7.Total_income  L8.Total_income  L9.Total_income  L10.Total_income  Computer_IT,_net_addition_in_year  Net_computers_and_IT_systems  Net_plant_&_machinery,_computers_and_electrical_installations  Net_software  Profit_after_tax  Total_expenses | gmm(Total_income, 2:3) gmm(Total_expenses, 1:.) iv(Computer_IT,_net_addition_in_year) | timedumm |\n",
            "+-------+-----------------------------------------------------------------------------------------------------------------------------------------------------------------------------------------------------------------------------------------------------------------------------------------------------------------------------------------------------------------------------------------------------------------------------------------------------------------------------+\n"
          ]
        }
      ],
      "source": [
        "mydpd = regression.abond(command_str, df, ['Companies', 'Year'])"
      ]
    }
  ],
  "metadata": {
    "colab": {
      "provenance": []
    },
    "kernelspec": {
      "display_name": "Python 3",
      "name": "python3"
    },
    "language_info": {
      "name": "python"
    }
  },
  "nbformat": 4,
  "nbformat_minor": 0
}
