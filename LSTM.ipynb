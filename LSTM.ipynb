{
  "cells": [
    {
      "cell_type": "code",
      "execution_count": null,
      "metadata": {
        "id": "3CjSpDDJaRjy"
      },
      "outputs": [],
      "source": [
        "from pandas import read_excel\n",
        "from pandas import DataFrame\n",
        "import pandas as pd\n",
        "from pandas import concat\n",
        "from sklearn.preprocessing import LabelEncoder\n",
        "from keras.models import Sequential\n",
        "from keras.layers import Dense\n",
        "from keras.layers import LSTM\n",
        "import numpy as np\n",
        "import matplotlib.pyplot as plt\n",
        "import plotly.graph_objects as go\n",
        "from google.colab import drive"
      ]
    },
    {
      "cell_type": "markdown",
      "metadata": {},
      "source": [
        "Accessing drive"
      ]
    },
    {
      "cell_type": "code",
      "execution_count": null,
      "metadata": {},
      "outputs": [],
      "source": [
        "drive.mount('/content/drive')"
      ]
    },
    {
      "cell_type": "markdown",
      "metadata": {},
      "source": [
        "Reading data from the excel file"
      ]
    },
    {
      "cell_type": "code",
      "execution_count": null,
      "metadata": {
        "id": "MqKto7rZbmRR"
      },
      "outputs": [],
      "source": [
        "dfr = read_excel(r'/content/drive/My Drive/CMIE_PROJECT/panel.xlsx', sheet_name='mainpanel')"
      ]
    },
    {
      "cell_type": "markdown",
      "metadata": {},
      "source": [
        "Dropping irrelevant variables"
      ]
    },
    {
      "cell_type": "code",
      "execution_count": null,
      "metadata": {
        "id": "hbhftmn5cGz3"
      },
      "outputs": [],
      "source": [
        "dfr = dfr.drop(columns=['Total assets','Net fixed assets','Export / Sales (%)','IT/ITES & other professional services','Additions to computers and IT systems during the year','Gross software','Net profit margin','Net cash inflow or (outflow) from investing activities','Size','Total forex earnings / Total income (%)','Raw material imports / Raw material purchases (%)', 'Gross computers and IT systems'])"
      ]
    },
    {
      "cell_type": "code",
      "execution_count": null,
      "metadata": {
        "id": "2JxSRcaMcX6S"
      },
      "outputs": [],
      "source": [
        "df=dfr.copy()"
      ]
    },
    {
      "cell_type": "markdown",
      "metadata": {},
      "source": [
        "Filling missing values, linearly"
      ]
    },
    {
      "cell_type": "code",
      "execution_count": null,
      "metadata": {
        "colab": {
          "base_uri": "https://localhost:8080/"
        },
        "id": "AmYNYzXS9vaK",
        "outputId": "5d4d9c3e-7335-44d8-92d5-ba57c57bb428"
      },
      "outputs": [
        {
          "name": "stderr",
          "output_type": "stream",
          "text": [
            "<ipython-input-8-db6b5264b618>:2: FutureWarning: Series.interpolate with object dtype is deprecated and will raise in a future version. Call obj.infer_objects(copy=False) before interpolating instead.\n",
            "  return column.interpolate(method='linear', limit_direction='both')\n"
          ]
        }
      ],
      "source": [
        "def fill_nan_linearly(column):\n",
        "    return column.interpolate(method='linear', limit_direction='both')\n",
        "\n",
        "filled_df = df.groupby('Companies').apply(lambda group: group.apply(fill_nan_linearly, axis=0))\n",
        "filled_df.reset_index(drop=True, inplace=True)"
      ]
    },
    {
      "cell_type": "code",
      "execution_count": null,
      "metadata": {
        "id": "e8w5lIYPe_IZ"
      },
      "outputs": [],
      "source": [
        "df=filled_df.copy()"
      ]
    },
    {
      "cell_type": "markdown",
      "metadata": {},
      "source": [
        "Mathematical manipulation to avoid explosion in mape value"
      ]
    },
    {
      "cell_type": "code",
      "execution_count": null,
      "metadata": {
        "colab": {
          "base_uri": "https://localhost:8080/"
        },
        "id": "mCktQuZXe15x",
        "outputId": "313a06fb-f0d5-4ccc-9565-a358127abba1"
      },
      "outputs": [
        {
          "name": "stderr",
          "output_type": "stream",
          "text": [
            "<ipython-input-13-d2a5495eb679>:2: FutureWarning: Setting an item of incompatible dtype is deprecated and will raise in a future error of pandas. Value '0.1' has dtype incompatible with int64, please explicitly cast to a compatible dtype first.\n",
            "  df.loc[df[i] == 0, i] = 0.1\n"
          ]
        }
      ],
      "source": [
        "for i in df.columns:\n",
        "  df.loc[df[i] == 0, i] = 0.1"
      ]
    },
    {
      "cell_type": "markdown",
      "metadata": {},
      "source": [
        "Train Test Split"
      ]
    },
    {
      "cell_type": "code",
      "execution_count": null,
      "metadata": {},
      "outputs": [],
      "source": [
        "train = df[df['Year'] < 2020]\n",
        "test = df[df['Year'] >= 2021]"
      ]
    },
    {
      "cell_type": "code",
      "execution_count": null,
      "metadata": {
        "id": "Y95ZYbaCfqDw"
      },
      "outputs": [],
      "source": [
        "\n",
        "X_train = train.drop(['Total income'], axis=1)\n",
        "Y_train = DataFrame(train['Total income'])\n",
        "X_test = test.drop(['Total income'], axis=1)\n",
        "Y_test = DataFrame(test['Total income'])"
      ]
    },
    {
      "cell_type": "markdown",
      "metadata": {},
      "source": [
        "Converting Data to supervised format"
      ]
    },
    {
      "cell_type": "code",
      "execution_count": null,
      "metadata": {
        "id": "eH_B0B4mgz-8"
      },
      "outputs": [],
      "source": [
        "def series_to_supervised(data, n_in=1, n_out=1, dropnan=True):\n",
        "    n_vars = 1 if type(data) is list else data.shape[1]\n",
        "    df = DataFrame(data)\n",
        "    cols, names = list(), list()\n",
        "    for i in range(n_in, 0, -1):\n",
        "        cols.append(df.shift(i))\n",
        "        names += [('var%d(t-%d)' % (j+1, i)) for j in range(n_vars)]\n",
        "    for i in range(0, n_out):\n",
        "        cols.append(df.shift(-i))\n",
        "        if i == 0:\n",
        "            names += [('var%d(t)' % (j+1)) for j in range(n_vars)]\n",
        "        else:\n",
        "            names += [('var%d(t+%d)' % (j+1, i)) for j in range(n_vars)]\n",
        "\n",
        "    agg = concat(cols, axis=1)\n",
        "    agg.columns = names\n",
        "\n",
        "    if dropnan:\n",
        "        agg.dropna(inplace=True)\n",
        "    return agg\n"
      ]
    },
    {
      "cell_type": "markdown",
      "metadata": {},
      "source": [
        "Reshaping the data"
      ]
    },
    {
      "cell_type": "code",
      "execution_count": null,
      "metadata": {},
      "outputs": [],
      "source": [
        "def reshape_data(train,test):\n",
        "    reframed_train = series_to_supervised(train, 1, 1)\n",
        "    reframed_test = series_to_supervised(test, 1, 1)\n",
        "\n",
        "    train= reframed_train.values\n",
        "    test=reframed_test.values\n",
        "\n",
        "    train_X, y_train = train[:, :-1], train[:, -1]\n",
        "    test_X, y_test = test[:, :-1], test[:, -1]\n",
        "\n",
        "    x_train = train_X.reshape((train_X.shape[0], 1, train_X.shape[1]))\n",
        "    x_test = test_X.reshape((test_X.shape[0], 1, test_X.shape[1]))\n",
        "    return x_train,x_test,y_train,y_test"
      ]
    },
    {
      "cell_type": "markdown",
      "metadata": {},
      "source": [
        "Converting categorical labels into numeric values"
      ]
    },
    {
      "cell_type": "code",
      "execution_count": null,
      "metadata": {
        "id": "JBoCSS5Eg6Fx"
      },
      "outputs": [],
      "source": [
        "encoder = LabelEncoder()\n",
        "\n",
        "train_data=pd.DataFrame()\n",
        "train_data[X_train.columns]=X_train\n",
        "train_data[Y_train.columns]=Y_train\n",
        "train_data['Companies']= encoder.fit_transform(train_data['Companies'])\n",
        "\n",
        "test_data=pd.DataFrame()\n",
        "test_data[X_test.columns]=X_test\n",
        "test_data[Y_test.columns]=Y_test\n",
        "test_data['Companies']= encoder.fit_transform(test_data['Companies'])"
      ]
    },
    {
      "cell_type": "code",
      "execution_count": null,
      "metadata": {
        "id": "2xdWpKbYhcQk"
      },
      "outputs": [],
      "source": [
        "x_train,x_test,y_train,y_test=reshape_data(train_data,test_data)"
      ]
    },
    {
      "cell_type": "markdown",
      "metadata": {},
      "source": [
        "Model"
      ]
    },
    {
      "cell_type": "code",
      "execution_count": null,
      "metadata": {
        "colab": {
          "base_uri": "https://localhost:8080/"
        },
        "id": "Uzl5Ob89hfJh",
        "outputId": "2c0685f7-e79a-455e-8858-e1031df2d88a"
      },
      "outputs": [
        {
          "name": "stdout",
          "output_type": "stream",
          "text": [
            "Epoch 1/50\n",
            "802/802 [==============================] - 4s 3ms/step - loss: 1431.2318\n",
            "Epoch 2/50\n",
            "802/802 [==============================] - 2s 3ms/step - loss: 662.2263\n",
            "Epoch 3/50\n",
            "802/802 [==============================] - 2s 3ms/step - loss: 507.6883\n",
            "Epoch 4/50\n",
            "802/802 [==============================] - 2s 3ms/step - loss: 451.2021\n",
            "Epoch 5/50\n",
            "802/802 [==============================] - 4s 4ms/step - loss: 405.0074\n",
            "Epoch 6/50\n",
            "802/802 [==============================] - 3s 3ms/step - loss: 401.1196\n",
            "Epoch 7/50\n",
            "802/802 [==============================] - 2s 3ms/step - loss: 362.6795\n",
            "Epoch 8/50\n",
            "802/802 [==============================] - 2s 3ms/step - loss: 365.8473\n",
            "Epoch 9/50\n",
            "802/802 [==============================] - 2s 3ms/step - loss: 345.3854\n",
            "Epoch 10/50\n",
            "802/802 [==============================] - 2s 3ms/step - loss: 332.5894\n",
            "Epoch 11/50\n",
            "802/802 [==============================] - 4s 5ms/step - loss: 333.6026\n",
            "Epoch 12/50\n",
            "802/802 [==============================] - 2s 3ms/step - loss: 335.6139\n",
            "Epoch 13/50\n",
            "802/802 [==============================] - 2s 3ms/step - loss: 313.0128\n",
            "Epoch 14/50\n",
            "802/802 [==============================] - 2s 3ms/step - loss: 312.4037\n",
            "Epoch 15/50\n",
            "802/802 [==============================] - 2s 3ms/step - loss: 310.3531\n",
            "Epoch 16/50\n",
            "802/802 [==============================] - 2s 3ms/step - loss: 308.7943\n",
            "Epoch 17/50\n",
            "802/802 [==============================] - 4s 5ms/step - loss: 314.9883\n",
            "Epoch 18/50\n",
            "802/802 [==============================] - 2s 3ms/step - loss: 302.2535\n",
            "Epoch 19/50\n",
            "802/802 [==============================] - 2s 3ms/step - loss: 294.4894\n",
            "Epoch 20/50\n",
            "802/802 [==============================] - 2s 3ms/step - loss: 292.9085\n",
            "Epoch 21/50\n",
            "802/802 [==============================] - 2s 3ms/step - loss: 310.1677\n",
            "Epoch 22/50\n",
            "802/802 [==============================] - 3s 3ms/step - loss: 284.3866\n",
            "Epoch 23/50\n",
            "802/802 [==============================] - 4s 5ms/step - loss: 295.6024\n",
            "Epoch 24/50\n",
            "802/802 [==============================] - 2s 3ms/step - loss: 293.5872\n",
            "Epoch 25/50\n",
            "802/802 [==============================] - 2s 3ms/step - loss: 303.2685\n",
            "Epoch 26/50\n",
            "802/802 [==============================] - 2s 3ms/step - loss: 288.4458\n",
            "Epoch 27/50\n",
            "802/802 [==============================] - 2s 3ms/step - loss: 284.2109\n",
            "Epoch 28/50\n",
            "802/802 [==============================] - 3s 3ms/step - loss: 282.5897\n",
            "Epoch 29/50\n",
            "802/802 [==============================] - 5s 6ms/step - loss: 283.3885\n",
            "Epoch 30/50\n",
            "802/802 [==============================] - 3s 4ms/step - loss: 283.0323\n",
            "Epoch 31/50\n",
            "802/802 [==============================] - 2s 3ms/step - loss: 284.6054\n",
            "Epoch 32/50\n",
            "802/802 [==============================] - 2s 3ms/step - loss: 288.1869\n",
            "Epoch 33/50\n",
            "802/802 [==============================] - 2s 3ms/step - loss: 298.6791\n",
            "Epoch 34/50\n",
            "802/802 [==============================] - 3s 4ms/step - loss: 287.4196\n",
            "Epoch 35/50\n",
            "802/802 [==============================] - 3s 3ms/step - loss: 284.3891\n",
            "Epoch 36/50\n",
            "802/802 [==============================] - 2s 3ms/step - loss: 301.5960\n",
            "Epoch 37/50\n",
            "802/802 [==============================] - 2s 3ms/step - loss: 288.6729\n",
            "Epoch 38/50\n",
            "802/802 [==============================] - 2s 3ms/step - loss: 262.1246\n",
            "Epoch 39/50\n",
            "802/802 [==============================] - 2s 3ms/step - loss: 284.9652\n",
            "Epoch 40/50\n",
            "802/802 [==============================] - 4s 4ms/step - loss: 283.2823\n",
            "Epoch 41/50\n",
            "802/802 [==============================] - 2s 3ms/step - loss: 277.7010\n",
            "Epoch 42/50\n",
            "802/802 [==============================] - 2s 3ms/step - loss: 276.6682\n",
            "Epoch 43/50\n",
            "802/802 [==============================] - 2s 3ms/step - loss: 279.4724\n",
            "Epoch 44/50\n",
            "802/802 [==============================] - 2s 3ms/step - loss: 265.8454\n",
            "Epoch 45/50\n",
            "802/802 [==============================] - 2s 3ms/step - loss: 272.0915\n",
            "Epoch 46/50\n",
            "802/802 [==============================] - 4s 4ms/step - loss: 276.1911\n",
            "Epoch 47/50\n",
            "802/802 [==============================] - 2s 3ms/step - loss: 282.4590\n",
            "Epoch 48/50\n",
            "802/802 [==============================] - 2s 3ms/step - loss: 276.3682\n",
            "Epoch 49/50\n",
            "802/802 [==============================] - 2s 3ms/step - loss: 269.3725\n",
            "Epoch 50/50\n",
            "802/802 [==============================] - 2s 3ms/step - loss: 266.7471\n"
          ]
        }
      ],
      "source": [
        "model = Sequential()\n",
        "model.add(LSTM(60, activation='relu',input_shape=(x_train.shape[1], x_train.shape[2])))\n",
        "\n",
        "model.add(Dense(1))\n",
        "model.compile(loss='mae', optimizer='adam')\n",
        "history = model.fit(x_train, y_train, epochs=50, batch_size=50,  verbose=1, shuffle=False)"
      ]
    },
    {
      "cell_type": "code",
      "execution_count": null,
      "metadata": {
        "colab": {
          "base_uri": "https://localhost:8080/",
          "height": 430
        },
        "id": "5nWLZWIyiLuI",
        "outputId": "5fb62267-8acb-45b5-e8ef-0b5a86aa5b5c"
      },
      "outputs": [
        {
          "data": {
            "image/png": "[encoded data removed]",
            "text/plain": [
              "<Figure size 640x480 with 1 Axes>"
            ]
          },
          "metadata": {},
          "output_type": "display_data"
        }
      ],
      "source": [
        "plt.plot(history.history['loss'], label='Loss')\n",
        "plt.legend()\n",
        "plt.show()"
      ]
    },
    {
      "cell_type": "code",
      "execution_count": null,
      "metadata": {
        "colab": {
          "base_uri": "https://localhost:8080/"
        },
        "id": "Wcf2L6lliSPR",
        "outputId": "11c9d98e-9f87-493d-8923-634abf85c5e7"
      },
      "outputs": [
        {
          "name": "stdout",
          "output_type": "stream",
          "text": [
            "502/502 [==============================] - 1s 2ms/step\n",
            "1253/1253 [==============================] - 3s 2ms/step\n"
          ]
        },
        {
          "data": {
            "text/plain": [
              "((40089, 1), (40089,))"
            ]
          },
          "execution_count": 21,
          "metadata": {},
          "output_type": "execute_result"
        }
      ],
      "source": [
        "y_test_pre=model.predict(x_test)\n",
        "y_train_pre=model.predict(x_train)\n",
        "\n",
        "y_test_pre.shape,y_test.shape\n",
        "y_train_pre.shape,y_train.shape"
      ]
    },
    {
      "cell_type": "code",
      "execution_count": null,
      "metadata": {
        "id": "JQVQj7DMaMqd"
      },
      "outputs": [],
      "source": [
        "y_dat_pred=list(y_test_pre)+list(y_train_pre)\n",
        "y_dat_act=list(y_test)+list(y_train)\n",
        "year_dat=list(test_data['Year'])[1:]+list(train_data['Year'])[1:]"
      ]
    },
    {
      "cell_type": "code",
      "execution_count": null,
      "metadata": {
        "colab": {
          "base_uri": "https://localhost:8080/",
          "height": 206
        },
        "id": "-aJC9bmYW8KG",
        "outputId": "a6b4eb84-7182-4984-efcc-b3fe4a5a1ad4"
      },
      "outputs": [
        {
          "data": {
            "application/vnd.google.colaboratory.intrinsic+json": {
              "summary": "{\n  \"name\": \"pa\",\n  \"rows\": 56124,\n  \"fields\": [\n    {\n      \"column\": \"Prediction\",\n      \"properties\": {\n        \"dtype\": \"float32\",\n        \"num_unique_values\": 56101,\n        \"samples\": [\n          1807.5240478515625,\n          1377.95703125,\n          25226.10546875\n        ],\n        \"semantic_type\": \"\",\n        \"description\": \"\"\n      }\n    },\n    {\n      \"column\": \"Year\",\n      \"properties\": {\n        \"dtype\": \"number\",\n        \"std\": 4.031116165977256,\n        \"min\": 2010.0,\n        \"max\": 2023.0,\n        \"num_unique_values\": 14,\n        \"samples\": [\n          2016.0,\n          2018.0,\n          2021.0\n        ],\n        \"semantic_type\": \"\",\n        \"description\": \"\"\n      }\n    },\n    {\n      \"column\": \"Actual Values\",\n      \"properties\": {\n        \"dtype\": \"number\",\n        \"std\": 51254.904712344425,\n        \"min\": -80.6,\n        \"max\": 2426325.6,\n        \"num_unique_values\": 41692,\n        \"samples\": [\n          224832.1,\n          25305.9,\n          28250.2\n        ],\n        \"semantic_type\": \"\",\n        \"description\": \"\"\n      }\n    }\n  ]\n}",
              "type": "dataframe",
              "variable_name": "pa"
            },
            "text/html": [
              "\n",
              "  <div id=\"df-e5e4f1b2-b4bc-43ec-a0cf-1ce8657e97db\" class=\"colab-df-container\">\n",
              "    <div>\n",
              "<style scoped>\n",
              "    .dataframe tbody tr th:only-of-type {\n",
              "        vertical-align: middle;\n",
              "    }\n",
              "\n",
              "    .dataframe tbody tr th {\n",
              "        vertical-align: top;\n",
              "    }\n",
              "\n",
              "    .dataframe thead th {\n",
              "        text-align: right;\n",
              "    }\n",
              "</style>\n",
              "<table border=\"1\" class=\"dataframe\">\n",
              "  <thead>\n",
              "    <tr style=\"text-align: right;\">\n",
              "      <th></th>\n",
              "      <th>Prediction</th>\n",
              "      <th>Year</th>\n",
              "      <th>Actual Values</th>\n",
              "    </tr>\n",
              "  </thead>\n",
              "  <tbody>\n",
              "    <tr>\n",
              "      <th>0</th>\n",
              "      <td>4419.878418</td>\n",
              "      <td>2021.0</td>\n",
              "      <td>4379.6</td>\n",
              "    </tr>\n",
              "    <tr>\n",
              "      <th>1</th>\n",
              "      <td>5257.450195</td>\n",
              "      <td>2022.0</td>\n",
              "      <td>5229.5</td>\n",
              "    </tr>\n",
              "    <tr>\n",
              "      <th>2</th>\n",
              "      <td>6078.783691</td>\n",
              "      <td>2023.0</td>\n",
              "      <td>6044.2</td>\n",
              "    </tr>\n",
              "    <tr>\n",
              "      <th>3</th>\n",
              "      <td>1138.969849</td>\n",
              "      <td>2020.0</td>\n",
              "      <td>1116.2</td>\n",
              "    </tr>\n",
              "    <tr>\n",
              "      <th>4</th>\n",
              "      <td>1269.174072</td>\n",
              "      <td>2021.0</td>\n",
              "      <td>1229.1</td>\n",
              "    </tr>\n",
              "  </tbody>\n",
              "</table>\n",
              "</div>\n",
              "    <div class=\"colab-df-buttons\">\n",
              "\n",
              "  <div class=\"colab-df-container\">\n",
              "    <button class=\"colab-df-convert\" onclick=\"convertToInteractive('df-e5e4f1b2-b4bc-43ec-a0cf-1ce8657e97db')\"\n",
              "            title=\"Convert this dataframe to an interactive table.\"\n",
              "            style=\"display:none;\">\n",
              "\n",
              "  <svg xmlns=\"http://www.w3.org/2000/svg\" height=\"24px\" viewBox=\"0 -960 960 960\">\n",
              "    <path d=\"M120-120v-720h720v720H120Zm60-500h600v-160H180v160Zm220 220h160v-160H400v160Zm0 220h160v-160H400v160ZM180-400h160v-160H180v160Zm440 0h160v-160H620v160ZM180-180h160v-160H180v160Zm440 0h160v-160H620v160Z\"/>\n",
              "  </svg>\n",
              "    </button>\n",
              "\n",
              "  <style>\n",
              "    .colab-df-container {\n",
              "      display:flex;\n",
              "      gap: 12px;\n",
              "    }\n",
              "\n",
              "    .colab-df-convert {\n",
              "      background-color: #E8F0FE;\n",
              "      border: none;\n",
              "      border-radius: 50%;\n",
              "      cursor: pointer;\n",
              "      display: none;\n",
              "      fill: #1967D2;\n",
              "      height: 32px;\n",
              "      padding: 0 0 0 0;\n",
              "      width: 32px;\n",
              "    }\n",
              "\n",
              "    .colab-df-convert:hover {\n",
              "      background-color: #E2EBFA;\n",
              "      box-shadow: 0px 1px 2px rgba(60, 64, 67, 0.3), 0px 1px 3px 1px rgba(60, 64, 67, 0.15);\n",
              "      fill: #174EA6;\n",
              "    }\n",
              "\n",
              "    .colab-df-buttons div {\n",
              "      margin-bottom: 4px;\n",
              "    }\n",
              "\n",
              "    [theme=dark] .colab-df-convert {\n",
              "      background-color: #3B4455;\n",
              "      fill: #D2E3FC;\n",
              "    }\n",
              "\n",
              "    [theme=dark] .colab-df-convert:hover {\n",
              "      background-color: #434B5C;\n",
              "      box-shadow: 0px 1px 3px 1px rgba(0, 0, 0, 0.15);\n",
              "      filter: drop-shadow(0px 1px 2px rgba(0, 0, 0, 0.3));\n",
              "      fill: #FFFFFF;\n",
              "    }\n",
              "  </style>\n",
              "\n",
              "    <script>\n",
              "      const buttonEl =\n",
              "        document.querySelector('#df-e5e4f1b2-b4bc-43ec-a0cf-1ce8657e97db button.colab-df-convert');\n",
              "      buttonEl.style.display =\n",
              "        google.colab.kernel.accessAllowed ? 'block' : 'none';\n",
              "\n",
              "      async function convertToInteractive(key) {\n",
              "        const element = document.querySelector('#df-e5e4f1b2-b4bc-43ec-a0cf-1ce8657e97db');\n",
              "        const dataTable =\n",
              "          await google.colab.kernel.invokeFunction('convertToInteractive',\n",
              "                                                    [key], {});\n",
              "        if (!dataTable) return;\n",
              "\n",
              "        const docLinkHtml = 'Like what you see? Visit the ' +\n",
              "          '<a target=\"_blank\" href=https://colab.research.google.com/notebooks/data_table.ipynb>data table notebook</a>'\n",
              "          + ' to learn more about interactive tables.';\n",
              "        element.innerHTML = '';\n",
              "        dataTable['output_type'] = 'display_data';\n",
              "        await google.colab.output.renderOutput(dataTable, element);\n",
              "        const docLink = document.createElement('div');\n",
              "        docLink.innerHTML = docLinkHtml;\n",
              "        element.appendChild(docLink);\n",
              "      }\n",
              "    </script>\n",
              "  </div>\n",
              "\n",
              "\n",
              "<div id=\"df-04bfef01-2283-482e-81bf-0fdb8bfb5aed\">\n",
              "  <button class=\"colab-df-quickchart\" onclick=\"quickchart('df-04bfef01-2283-482e-81bf-0fdb8bfb5aed')\"\n",
              "            title=\"Suggest charts\"\n",
              "            style=\"display:none;\">\n",
              "\n",
              "<svg xmlns=\"http://www.w3.org/2000/svg\" height=\"24px\"viewBox=\"0 0 24 24\"\n",
              "     width=\"24px\">\n",
              "    <g>\n",
              "        <path d=\"M19 3H5c-1.1 0-2 .9-2 2v14c0 1.1.9 2 2 2h14c1.1 0 2-.9 2-2V5c0-1.1-.9-2-2-2zM9 17H7v-7h2v7zm4 0h-2V7h2v10zm4 0h-2v-4h2v4z\"/>\n",
              "    </g>\n",
              "</svg>\n",
              "  </button>\n",
              "\n",
              "<style>\n",
              "  .colab-df-quickchart {\n",
              "      --bg-color: #E8F0FE;\n",
              "      --fill-color: #1967D2;\n",
              "      --hover-bg-color: #E2EBFA;\n",
              "      --hover-fill-color: #174EA6;\n",
              "      --disabled-fill-color: #AAA;\n",
              "      --disabled-bg-color: #DDD;\n",
              "  }\n",
              "\n",
              "  [theme=dark] .colab-df-quickchart {\n",
              "      --bg-color: #3B4455;\n",
              "      --fill-color: #D2E3FC;\n",
              "      --hover-bg-color: #434B5C;\n",
              "      --hover-fill-color: #FFFFFF;\n",
              "      --disabled-bg-color: #3B4455;\n",
              "      --disabled-fill-color: #666;\n",
              "  }\n",
              "\n",
              "  .colab-df-quickchart {\n",
              "    background-color: var(--bg-color);\n",
              "    border: none;\n",
              "    border-radius: 50%;\n",
              "    cursor: pointer;\n",
              "    display: none;\n",
              "    fill: var(--fill-color);\n",
              "    height: 32px;\n",
              "    padding: 0;\n",
              "    width: 32px;\n",
              "  }\n",
              "\n",
              "  .colab-df-quickchart:hover {\n",
              "    background-color: var(--hover-bg-color);\n",
              "    box-shadow: 0 1px 2px rgba(60, 64, 67, 0.3), 0 1px 3px 1px rgba(60, 64, 67, 0.15);\n",
              "    fill: var(--button-hover-fill-color);\n",
              "  }\n",
              "\n",
              "  .colab-df-quickchart-complete:disabled,\n",
              "  .colab-df-quickchart-complete:disabled:hover {\n",
              "    background-color: var(--disabled-bg-color);\n",
              "    fill: var(--disabled-fill-color);\n",
              "    box-shadow: none;\n",
              "  }\n",
              "\n",
              "  .colab-df-spinner {\n",
              "    border: 2px solid var(--fill-color);\n",
              "    border-color: transparent;\n",
              "    border-bottom-color: var(--fill-color);\n",
              "    animation:\n",
              "      spin 1s steps(1) infinite;\n",
              "  }\n",
              "\n",
              "  @keyframes spin {\n",
              "    0% {\n",
              "      border-color: transparent;\n",
              "      border-bottom-color: var(--fill-color);\n",
              "      border-left-color: var(--fill-color);\n",
              "    }\n",
              "    20% {\n",
              "      border-color: transparent;\n",
              "      border-left-color: var(--fill-color);\n",
              "      border-top-color: var(--fill-color);\n",
              "    }\n",
              "    30% {\n",
              "      border-color: transparent;\n",
              "      border-left-color: var(--fill-color);\n",
              "      border-top-color: var(--fill-color);\n",
              "      border-right-color: var(--fill-color);\n",
              "    }\n",
              "    40% {\n",
              "      border-color: transparent;\n",
              "      border-right-color: var(--fill-color);\n",
              "      border-top-color: var(--fill-color);\n",
              "    }\n",
              "    60% {\n",
              "      border-color: transparent;\n",
              "      border-right-color: var(--fill-color);\n",
              "    }\n",
              "    80% {\n",
              "      border-color: transparent;\n",
              "      border-right-color: var(--fill-color);\n",
              "      border-bottom-color: var(--fill-color);\n",
              "    }\n",
              "    90% {\n",
              "      border-color: transparent;\n",
              "      border-bottom-color: var(--fill-color);\n",
              "    }\n",
              "  }\n",
              "</style>\n",
              "\n",
              "  <script>\n",
              "    async function quickchart(key) {\n",
              "      const quickchartButtonEl =\n",
              "        document.querySelector('#' + key + ' button');\n",
              "      quickchartButtonEl.disabled = true;  // To prevent multiple clicks.\n",
              "      quickchartButtonEl.classList.add('colab-df-spinner');\n",
              "      try {\n",
              "        const charts = await google.colab.kernel.invokeFunction(\n",
              "            'suggestCharts', [key], {});\n",
              "      } catch (error) {\n",
              "        console.error('Error during call to suggestCharts:', error);\n",
              "      }\n",
              "      quickchartButtonEl.classList.remove('colab-df-spinner');\n",
              "      quickchartButtonEl.classList.add('colab-df-quickchart-complete');\n",
              "    }\n",
              "    (() => {\n",
              "      let quickchartButtonEl =\n",
              "        document.querySelector('#df-04bfef01-2283-482e-81bf-0fdb8bfb5aed button');\n",
              "      quickchartButtonEl.style.display =\n",
              "        google.colab.kernel.accessAllowed ? 'block' : 'none';\n",
              "    })();\n",
              "  </script>\n",
              "</div>\n",
              "\n",
              "    </div>\n",
              "  </div>\n"
            ],
            "text/plain": [
              "    Prediction    Year  Actual Values\n",
              "0  4419.878418  2021.0         4379.6\n",
              "1  5257.450195  2022.0         5229.5\n",
              "2  6078.783691  2023.0         6044.2\n",
              "3  1138.969849  2020.0         1116.2\n",
              "4  1269.174072  2021.0         1229.1"
            ]
          },
          "execution_count": 24,
          "metadata": {},
          "output_type": "execute_result"
        }
      ],
      "source": [
        "pa=pd.DataFrame()\n",
        "pa['Prediction']=[i[0] for i in y_dat_pred]\n",
        "pa['Year']=year_dat\n",
        "pa['Actual Values']=y_dat_act\n",
        "pa.head()"
      ]
    },
    {
      "cell_type": "code",
      "execution_count": null,
      "metadata": {
        "colab": {
          "base_uri": "https://localhost:8080/"
        },
        "id": "caM5_4lJm3Ty",
        "outputId": "762d7bf4-e01d-411f-8f76-b67b0da81639"
      },
      "outputs": [
        {
          "data": {
            "text/plain": [
              "Year\n",
              "2010.0    25021092.0\n",
              "2011.0    25540144.0\n",
              "2012.0    28806486.0\n",
              "2013.0    32404152.0\n",
              "2014.0    36143764.0\n",
              "2015.0    39406340.0\n",
              "2016.0    41832272.0\n",
              "2017.0    45636184.0\n",
              "2018.0    49043204.0\n",
              "2019.0    55552340.0\n",
              "2020.0    55631784.0\n",
              "2021.0    55221980.0\n",
              "2022.0    68746136.0\n",
              "2023.0    80198456.0\n",
              "Name: Prediction, dtype: float32"
            ]
          },
          "execution_count": 26,
          "metadata": {},
          "output_type": "execute_result"
        }
      ],
      "source": [
        "pa.groupby('Year')['Prediction'].sum()"
      ]
    },
    {
      "cell_type": "code",
      "execution_count": null,
      "metadata": {
        "colab": {
          "base_uri": "https://localhost:8080/"
        },
        "id": "c_Yxco81m_Kw",
        "outputId": "046298c6-2b7f-4262-f294-52ebcd4eea9e"
      },
      "outputs": [
        {
          "data": {
            "text/plain": [
              "Year\n",
              "2010.0    2.534904e+07\n",
              "2011.0    2.555476e+07\n",
              "2012.0    2.860712e+07\n",
              "2013.0    3.207748e+07\n",
              "2014.0    3.613649e+07\n",
              "2015.0    3.914672e+07\n",
              "2016.0    4.172200e+07\n",
              "2017.0    4.538526e+07\n",
              "2018.0    4.881630e+07\n",
              "2019.0    5.521588e+07\n",
              "2020.0    5.557216e+07\n",
              "2021.0    5.529990e+07\n",
              "2022.0    6.857170e+07\n",
              "2023.0    7.971540e+07\n",
              "Name: Actual Values, dtype: float64"
            ]
          },
          "execution_count": 27,
          "metadata": {},
          "output_type": "execute_result"
        }
      ],
      "source": [
        "pa.groupby('Year')['Actual Values'].sum()"
      ]
    },
    {
      "cell_type": "code",
      "execution_count": null,
      "metadata": {
        "id": "eml7k3nsnQa0"
      },
      "outputs": [],
      "source": [
        "from sklearn.metrics import mean_squared_error\n",
        "def RMSE(actual,prediction):\n",
        "    rmse = np.sqrt(mean_squared_error(actual,prediction))\n",
        "    return rmse"
      ]
    },
    {
      "cell_type": "code",
      "execution_count": null,
      "metadata": {
        "id": "0q-zFSunyMyt"
      },
      "outputs": [],
      "source": [
        "from sklearn.metrics import mean_absolute_percentage_error\n",
        "def MAPE(actual,prediction):\n",
        "    rmse = np.sqrt(mean_absolute_percentage_error(actual,prediction))\n",
        "    return rmse"
      ]
    },
    {
      "cell_type": "code",
      "execution_count": null,
      "metadata": {
        "id": "Z6hISpu6XNWV"
      },
      "outputs": [],
      "source": [
        "from sklearn.metrics import r2_score\n",
        "def R2(actual,prediction):\n",
        "    r2= np.sqrt(r2_score(actual,prediction))\n",
        "    return r2"
      ]
    },
    {
      "cell_type": "code",
      "execution_count": null,
      "metadata": {
        "id": "zHBFyyMVcvGb"
      },
      "outputs": [],
      "source": [
        "from sklearn.metrics import mean_absolute_error\n",
        "def MAE(actual,prediction):\n",
        "    mae= np.sqrt(mean_absolute_error(actual,prediction))\n",
        "    return mae"
      ]
    },
    {
      "cell_type": "markdown",
      "metadata": {},
      "source": [
        "RMSE of test"
      ]
    },
    {
      "cell_type": "code",
      "execution_count": null,
      "metadata": {
        "colab": {
          "base_uri": "https://localhost:8080/"
        },
        "id": "AOwMUXJZnTBw",
        "outputId": "315d88bc-c6ec-4abd-b559-6f589cd6e496"
      },
      "outputs": [
        {
          "name": "stdout",
          "output_type": "stream",
          "text": [
            "3046.1343141859097\n"
          ]
        }
      ],
      "source": [
        "print(RMSE(y_test,[i[0] for i in y_test_pre]))"
      ]
    },
    {
      "cell_type": "markdown",
      "metadata": {},
      "source": [
        "RMSE of train"
      ]
    },
    {
      "cell_type": "code",
      "execution_count": null,
      "metadata": {
        "colab": {
          "base_uri": "https://localhost:8080/"
        },
        "id": "1HnSyXYTalvO",
        "outputId": "b2df8ef9-5695-4d70-ea3d-6d29ff4c7b7a"
      },
      "outputs": [
        {
          "name": "stdout",
          "output_type": "stream",
          "text": [
            "2091.0691118689347\n"
          ]
        }
      ],
      "source": [
        "print(RMSE(y_train,[i[0] for i in y_train_pre]))"
      ]
    },
    {
      "cell_type": "markdown",
      "metadata": {},
      "source": [
        "Mape of test"
      ]
    },
    {
      "cell_type": "code",
      "execution_count": null,
      "metadata": {
        "colab": {
          "base_uri": "https://localhost:8080/"
        },
        "id": "CbDcnsGcyUKA",
        "outputId": "b22e2f2d-75f6-4ae4-cd7b-041d4931f014"
      },
      "outputs": [
        {
          "name": "stdout",
          "output_type": "stream",
          "text": [
            "0.8727830148926595\n"
          ]
        }
      ],
      "source": [
        "print(MAPE(y_test,[i[0] for i in y_test_pre]))"
      ]
    },
    {
      "cell_type": "markdown",
      "metadata": {},
      "source": [
        "Mape of train"
      ]
    },
    {
      "cell_type": "code",
      "execution_count": null,
      "metadata": {
        "colab": {
          "base_uri": "https://localhost:8080/"
        },
        "id": "bqnWbBg-anYz",
        "outputId": "96801aa4-dcb5-4f63-9f03-5feed604f7f5"
      },
      "outputs": [
        {
          "name": "stdout",
          "output_type": "stream",
          "text": [
            "4.8336999264217\n"
          ]
        }
      ],
      "source": [
        "print(MAPE(y_train,[i[0] for i in y_train_pre]))"
      ]
    },
    {
      "cell_type": "markdown",
      "metadata": {},
      "source": [
        "R2 of test"
      ]
    },
    {
      "cell_type": "code",
      "execution_count": null,
      "metadata": {
        "colab": {
          "base_uri": "https://localhost:8080/"
        },
        "id": "6qgSFeaBZOp0",
        "outputId": "f2fef599-147b-49f6-f8a6-d312eb8a76a5"
      },
      "outputs": [
        {
          "name": "stdout",
          "output_type": "stream",
          "text": [
            "0.9990274606967601\n"
          ]
        }
      ],
      "source": [
        "print(R2(y_test,[i[0] for i in y_test_pre]))"
      ]
    },
    {
      "cell_type": "markdown",
      "metadata": {},
      "source": [
        "R2 of train"
      ]
    },
    {
      "cell_type": "code",
      "execution_count": null,
      "metadata": {
        "colab": {
          "base_uri": "https://localhost:8080/"
        },
        "id": "xnvAP7GNaoch",
        "outputId": "b70c62a8-9a0c-4ee5-d6ed-d862ea31e0f7"
      },
      "outputs": [
        {
          "name": "stdout",
          "output_type": "stream",
          "text": [
            "0.9987540388209241\n"
          ]
        }
      ],
      "source": [
        "print(R2(y_train,[i[0] for i in y_train_pre]))"
      ]
    },
    {
      "cell_type": "markdown",
      "metadata": {},
      "source": [
        "MAE of test"
      ]
    },
    {
      "cell_type": "code",
      "execution_count": null,
      "metadata": {
        "colab": {
          "base_uri": "https://localhost:8080/"
        },
        "id": "dUYuvWSycxLS",
        "outputId": "83ab78cd-9940-43fa-ad15-794d9038e6b3"
      },
      "outputs": [
        {
          "name": "stdout",
          "output_type": "stream",
          "text": [
            "18.5979948704376\n"
          ]
        }
      ],
      "source": [
        "print(MAE(y_test,[i[0] for i in y_test_pre]))"
      ]
    },
    {
      "cell_type": "markdown",
      "metadata": {},
      "source": [
        "MAE of train"
      ]
    },
    {
      "cell_type": "code",
      "execution_count": null,
      "metadata": {
        "colab": {
          "base_uri": "https://localhost:8080/"
        },
        "id": "3M0vPi3ucxfD",
        "outputId": "2940ba7e-67c7-4701-de46-d8e82e8c6c36"
      },
      "outputs": [
        {
          "name": "stdout",
          "output_type": "stream",
          "text": [
            "15.053460204716687\n"
          ]
        }
      ],
      "source": [
        "print(MAE(y_train,[i[0] for i in y_train_pre]))"
      ]
    },
    {
      "cell_type": "markdown",
      "metadata": {},
      "source": [
        "PLOT"
      ]
    },
    {
      "cell_type": "code",
      "execution_count": null,
      "metadata": {
        "colab": {
          "base_uri": "https://localhost:8080/",
          "height": 542
        },
        "id": "t5z873-0oBuC",
        "outputId": "037d99ab-e31a-433e-d6b3-c4d9a6290128"
      },
      "outputs": [
        {
          "data": {
            "text/html": [
              "<html>\n",
              "<head><meta charset=\"utf-8\" /></head>\n",
              "<body>\n",
              "    <div>            <script src=\"https://cdnjs.cloudflare.com/ajax/libs/mathjax/2.7.5/MathJax.js?config=TeX-AMS-MML_SVG\"></script><script type=\"text/javascript\">if (window.MathJax && window.MathJax.Hub && window.MathJax.Hub.Config) {window.MathJax.Hub.Config({SVG: {font: \"STIX-Web\"}});}</script>                <script type=\"text/javascript\">window.PlotlyConfig = {MathJaxConfig: 'local'};</script>\n",
              "        <script charset=\"utf-8\" src=\"https://cdn.plot.ly/plotly-2.24.1.min.js\"></script>                <div id=\"d4d9b8ca-d94b-4b35-a307-ab56d9184c2a\" class=\"plotly-graph-div\" style=\"height:525px; width:100%;\"></div>            <script type=\"text/javascript\">                                    window.PLOTLYENV=window.PLOTLYENV || {};                                    if (document.getElementById(\"d4d9b8ca-d94b-4b35-a307-ab56d9184c2a\")) {                    Plotly.newPlot(                        \"d4d9b8ca-d94b-4b35-a307-ab56d9184c2a\",                        [{\"line\":{\"color\":\"red\"},\"mode\":\"lines\",\"name\":\"Prediction\",\"x\":[2010.0,2011.0,2012.0,2013.0,2014.0,2015.0,2016.0,2017.0,2018.0,2019.0,2020.0,2021.0,2022.0,2023.0],\"y\":[25021092.0,25540144.0,28806486.0,32404152.0,36143764.0,39406340.0,41832272.0,45636184.0,49043204.0,55552340.0,55631784.0,55221980.0,68746136.0,80198456.0],\"type\":\"scatter\"},{\"line\":{\"color\":\"blue\"},\"mode\":\"lines\",\"name\":\"Actual Values\",\"x\":[2010.0,2011.0,2012.0,2013.0,2014.0,2015.0,2016.0,2017.0,2018.0,2019.0,2020.0,2021.0,2022.0,2023.0],\"y\":[25349036.64781746,25554760.084674604,28607119.02240476,32077478.353607144,36136488.333698414,39146720.21587302,41722004.98571429,45385260.05,48816302.86666667,55215883.13333333,55572161.0,55299897.2,68571699.25,79715396.0],\"type\":\"scatter\"}],                        {\"template\":{\"data\":{\"histogram2dcontour\":[{\"type\":\"histogram2dcontour\",\"colorbar\":{\"outlinewidth\":0,\"ticks\":\"\"},\"colorscale\":[[0.0,\"#0d0887\"],[0.1111111111111111,\"#46039f\"],[0.2222222222222222,\"#7201a8\"],[0.3333333333333333,\"#9c179e\"],[0.4444444444444444,\"#bd3786\"],[0.5555555555555556,\"#d8576b\"],[0.6666666666666666,\"#ed7953\"],[0.7777777777777778,\"#fb9f3a\"],[0.8888888888888888,\"#fdca26\"],[1.0,\"#f0f921\"]]}],\"choropleth\":[{\"type\":\"choropleth\",\"colorbar\":{\"outlinewidth\":0,\"ticks\":\"\"}}],\"histogram2d\":[{\"type\":\"histogram2d\",\"colorbar\":{\"outlinewidth\":0,\"ticks\":\"\"},\"colorscale\":[[0.0,\"#0d0887\"],[0.1111111111111111,\"#46039f\"],[0.2222222222222222,\"#7201a8\"],[0.3333333333333333,\"#9c179e\"],[0.4444444444444444,\"#bd3786\"],[0.5555555555555556,\"#d8576b\"],[0.6666666666666666,\"#ed7953\"],[0.7777777777777778,\"#fb9f3a\"],[0.8888888888888888,\"#fdca26\"],[1.0,\"#f0f921\"]]}],\"heatmap\":[{\"type\":\"heatmap\",\"colorbar\":{\"outlinewidth\":0,\"ticks\":\"\"},\"colorscale\":[[0.0,\"#0d0887\"],[0.1111111111111111,\"#46039f\"],[0.2222222222222222,\"#7201a8\"],[0.3333333333333333,\"#9c179e\"],[0.4444444444444444,\"#bd3786\"],[0.5555555555555556,\"#d8576b\"],[0.6666666666666666,\"#ed7953\"],[0.7777777777777778,\"#fb9f3a\"],[0.8888888888888888,\"#fdca26\"],[1.0,\"#f0f921\"]]}],\"heatmapgl\":[{\"type\":\"heatmapgl\",\"colorbar\":{\"outlinewidth\":0,\"ticks\":\"\"},\"colorscale\":[[0.0,\"#0d0887\"],[0.1111111111111111,\"#46039f\"],[0.2222222222222222,\"#7201a8\"],[0.3333333333333333,\"#9c179e\"],[0.4444444444444444,\"#bd3786\"],[0.5555555555555556,\"#d8576b\"],[0.6666666666666666,\"#ed7953\"],[0.7777777777777778,\"#fb9f3a\"],[0.8888888888888888,\"#fdca26\"],[1.0,\"#f0f921\"]]}],\"contourcarpet\":[{\"type\":\"contourcarpet\",\"colorbar\":{\"outlinewidth\":0,\"ticks\":\"\"}}],\"contour\":[{\"type\":\"contour\",\"colorbar\":{\"outlinewidth\":0,\"ticks\":\"\"},\"colorscale\":[[0.0,\"#0d0887\"],[0.1111111111111111,\"#46039f\"],[0.2222222222222222,\"#7201a8\"],[0.3333333333333333,\"#9c179e\"],[0.4444444444444444,\"#bd3786\"],[0.5555555555555556,\"#d8576b\"],[0.6666666666666666,\"#ed7953\"],[0.7777777777777778,\"#fb9f3a\"],[0.8888888888888888,\"#fdca26\"],[1.0,\"#f0f921\"]]}],\"surface\":[{\"type\":\"surface\",\"colorbar\":{\"outlinewidth\":0,\"ticks\":\"\"},\"colorscale\":[[0.0,\"#0d0887\"],[0.1111111111111111,\"#46039f\"],[0.2222222222222222,\"#7201a8\"],[0.3333333333333333,\"#9c179e\"],[0.4444444444444444,\"#bd3786\"],[0.5555555555555556,\"#d8576b\"],[0.6666666666666666,\"#ed7953\"],[0.7777777777777778,\"#fb9f3a\"],[0.8888888888888888,\"#fdca26\"],[1.0,\"#f0f921\"]]}],\"mesh3d\":[{\"type\":\"mesh3d\",\"colorbar\":{\"outlinewidth\":0,\"ticks\":\"\"}}],\"scatter\":[{\"fillpattern\":{\"fillmode\":\"overlay\",\"size\":10,\"solidity\":0.2},\"type\":\"scatter\"}],\"parcoords\":[{\"type\":\"parcoords\",\"line\":{\"colorbar\":{\"outlinewidth\":0,\"ticks\":\"\"}}}],\"scatterpolargl\":[{\"type\":\"scatterpolargl\",\"marker\":{\"colorbar\":{\"outlinewidth\":0,\"ticks\":\"\"}}}],\"bar\":[{\"error_x\":{\"color\":\"#2a3f5f\"},\"error_y\":{\"color\":\"#2a3f5f\"},\"marker\":{\"line\":{\"color\":\"#E5ECF6\",\"width\":0.5},\"pattern\":{\"fillmode\":\"overlay\",\"size\":10,\"solidity\":0.2}},\"type\":\"bar\"}],\"scattergeo\":[{\"type\":\"scattergeo\",\"marker\":{\"colorbar\":{\"outlinewidth\":0,\"ticks\":\"\"}}}],\"scatterpolar\":[{\"type\":\"scatterpolar\",\"marker\":{\"colorbar\":{\"outlinewidth\":0,\"ticks\":\"\"}}}],\"histogram\":[{\"marker\":{\"pattern\":{\"fillmode\":\"overlay\",\"size\":10,\"solidity\":0.2}},\"type\":\"histogram\"}],\"scattergl\":[{\"type\":\"scattergl\",\"marker\":{\"colorbar\":{\"outlinewidth\":0,\"ticks\":\"\"}}}],\"scatter3d\":[{\"type\":\"scatter3d\",\"line\":{\"colorbar\":{\"outlinewidth\":0,\"ticks\":\"\"}},\"marker\":{\"colorbar\":{\"outlinewidth\":0,\"ticks\":\"\"}}}],\"scattermapbox\":[{\"type\":\"scattermapbox\",\"marker\":{\"colorbar\":{\"outlinewidth\":0,\"ticks\":\"\"}}}],\"scatterternary\":[{\"type\":\"scatterternary\",\"marker\":{\"colorbar\":{\"outlinewidth\":0,\"ticks\":\"\"}}}],\"scattercarpet\":[{\"type\":\"scattercarpet\",\"marker\":{\"colorbar\":{\"outlinewidth\":0,\"ticks\":\"\"}}}],\"carpet\":[{\"aaxis\":{\"endlinecolor\":\"#2a3f5f\",\"gridcolor\":\"white\",\"linecolor\":\"white\",\"minorgridcolor\":\"white\",\"startlinecolor\":\"#2a3f5f\"},\"baxis\":{\"endlinecolor\":\"#2a3f5f\",\"gridcolor\":\"white\",\"linecolor\":\"white\",\"minorgridcolor\":\"white\",\"startlinecolor\":\"#2a3f5f\"},\"type\":\"carpet\"}],\"table\":[{\"cells\":{\"fill\":{\"color\":\"#EBF0F8\"},\"line\":{\"color\":\"white\"}},\"header\":{\"fill\":{\"color\":\"#C8D4E3\"},\"line\":{\"color\":\"white\"}},\"type\":\"table\"}],\"barpolar\":[{\"marker\":{\"line\":{\"color\":\"#E5ECF6\",\"width\":0.5},\"pattern\":{\"fillmode\":\"overlay\",\"size\":10,\"solidity\":0.2}},\"type\":\"barpolar\"}],\"pie\":[{\"automargin\":true,\"type\":\"pie\"}]},\"layout\":{\"autotypenumbers\":\"strict\",\"colorway\":[\"#636efa\",\"#EF553B\",\"#00cc96\",\"#ab63fa\",\"#FFA15A\",\"#19d3f3\",\"#FF6692\",\"#B6E880\",\"#FF97FF\",\"#FECB52\"],\"font\":{\"color\":\"#2a3f5f\"},\"hovermode\":\"closest\",\"hoverlabel\":{\"align\":\"left\"},\"paper_bgcolor\":\"white\",\"plot_bgcolor\":\"#E5ECF6\",\"polar\":{\"bgcolor\":\"#E5ECF6\",\"angularaxis\":{\"gridcolor\":\"white\",\"linecolor\":\"white\",\"ticks\":\"\"},\"radialaxis\":{\"gridcolor\":\"white\",\"linecolor\":\"white\",\"ticks\":\"\"}},\"ternary\":{\"bgcolor\":\"#E5ECF6\",\"aaxis\":{\"gridcolor\":\"white\",\"linecolor\":\"white\",\"ticks\":\"\"},\"baxis\":{\"gridcolor\":\"white\",\"linecolor\":\"white\",\"ticks\":\"\"},\"caxis\":{\"gridcolor\":\"white\",\"linecolor\":\"white\",\"ticks\":\"\"}},\"coloraxis\":{\"colorbar\":{\"outlinewidth\":0,\"ticks\":\"\"}},\"colorscale\":{\"sequential\":[[0.0,\"#0d0887\"],[0.1111111111111111,\"#46039f\"],[0.2222222222222222,\"#7201a8\"],[0.3333333333333333,\"#9c179e\"],[0.4444444444444444,\"#bd3786\"],[0.5555555555555556,\"#d8576b\"],[0.6666666666666666,\"#ed7953\"],[0.7777777777777778,\"#fb9f3a\"],[0.8888888888888888,\"#fdca26\"],[1.0,\"#f0f921\"]],\"sequentialminus\":[[0.0,\"#0d0887\"],[0.1111111111111111,\"#46039f\"],[0.2222222222222222,\"#7201a8\"],[0.3333333333333333,\"#9c179e\"],[0.4444444444444444,\"#bd3786\"],[0.5555555555555556,\"#d8576b\"],[0.6666666666666666,\"#ed7953\"],[0.7777777777777778,\"#fb9f3a\"],[0.8888888888888888,\"#fdca26\"],[1.0,\"#f0f921\"]],\"diverging\":[[0,\"#8e0152\"],[0.1,\"#c51b7d\"],[0.2,\"#de77ae\"],[0.3,\"#f1b6da\"],[0.4,\"#fde0ef\"],[0.5,\"#f7f7f7\"],[0.6,\"#e6f5d0\"],[0.7,\"#b8e186\"],[0.8,\"#7fbc41\"],[0.9,\"#4d9221\"],[1,\"#276419\"]]},\"xaxis\":{\"gridcolor\":\"white\",\"linecolor\":\"white\",\"ticks\":\"\",\"title\":{\"standoff\":15},\"zerolinecolor\":\"white\",\"automargin\":true,\"zerolinewidth\":2},\"yaxis\":{\"gridcolor\":\"white\",\"linecolor\":\"white\",\"ticks\":\"\",\"title\":{\"standoff\":15},\"zerolinecolor\":\"white\",\"automargin\":true,\"zerolinewidth\":2},\"scene\":{\"xaxis\":{\"backgroundcolor\":\"#E5ECF6\",\"gridcolor\":\"white\",\"linecolor\":\"white\",\"showbackground\":true,\"ticks\":\"\",\"zerolinecolor\":\"white\",\"gridwidth\":2},\"yaxis\":{\"backgroundcolor\":\"#E5ECF6\",\"gridcolor\":\"white\",\"linecolor\":\"white\",\"showbackground\":true,\"ticks\":\"\",\"zerolinecolor\":\"white\",\"gridwidth\":2},\"zaxis\":{\"backgroundcolor\":\"#E5ECF6\",\"gridcolor\":\"white\",\"linecolor\":\"white\",\"showbackground\":true,\"ticks\":\"\",\"zerolinecolor\":\"white\",\"gridwidth\":2}},\"shapedefaults\":{\"line\":{\"color\":\"#2a3f5f\"}},\"annotationdefaults\":{\"arrowcolor\":\"#2a3f5f\",\"arrowhead\":0,\"arrowwidth\":1},\"geo\":{\"bgcolor\":\"white\",\"landcolor\":\"#E5ECF6\",\"subunitcolor\":\"white\",\"showland\":true,\"showlakes\":true,\"lakecolor\":\"white\"},\"title\":{\"x\":0.05},\"mapbox\":{\"style\":\"light\"}}},\"xaxis\":{\"tickfont\":{\"size\":14},\"title\":{\"text\":\"Year\"}},\"yaxis\":{\"tickfont\":{\"size\":14},\"title\":{\"text\":\"Total Income (in Million Rs.)\"}},\"legend\":{\"font\":{\"size\":14}},\"title\":{\"text\":\"LSTM\"}},                        {\"responsive\": true}                    ).then(function(){\n",
              "                            \n",
              "var gd = document.getElementById('d4d9b8ca-d94b-4b35-a307-ab56d9184c2a');\n",
              "var x = new MutationObserver(function (mutations, observer) {{\n",
              "        var display = window.getComputedStyle(gd).display;\n",
              "        if (!display || display === 'none') {{\n",
              "            console.log([gd, 'removed!']);\n",
              "            Plotly.purge(gd);\n",
              "            observer.disconnect();\n",
              "        }}\n",
              "}});\n",
              "\n",
              "// Listen for the removal of the full notebook cells\n",
              "var notebookContainer = gd.closest('#notebook-container');\n",
              "if (notebookContainer) {{\n",
              "    x.observe(notebookContainer, {childList: true});\n",
              "}}\n",
              "\n",
              "// Listen for the clearing of the current output cell\n",
              "var outputEl = gd.closest('.output');\n",
              "if (outputEl) {{\n",
              "    x.observe(outputEl, {childList: true});\n",
              "}}\n",
              "\n",
              "                        })                };                            </script>        </div>\n",
              "</body>\n",
              "</html>"
            ]
          },
          "metadata": {},
          "output_type": "display_data"
        }
      ],
      "source": [
        "\n",
        "grouped_data = pa.groupby('Year').agg({'Prediction': 'sum', 'Actual Values': 'sum'}).reset_index()\n",
        "\n",
        "trace_pred = go.Scatter(x=grouped_data['Year'], y=grouped_data['Prediction'], mode='lines', name='Prediction', line=dict(color='red'))\n",
        "trace_actual = go.Scatter(x=grouped_data['Year'], y=grouped_data['Actual Values'], mode='lines', name='Actual Values', line=dict(color='blue'))\n",
        "\n",
        "fig = go.Figure([trace_pred, trace_actual])\n",
        "fig.update_layout(\n",
        "    title='LSTM',\n",
        "    xaxis=dict(title='Year', tickfont=dict(size=14)),\n",
        "    yaxis=dict(title='Total Income (in Million Rs.)', tickfont=dict(size=14)),\n",
        "    legend=dict(font=dict(size=14))\n",
        ")\n",
        "\n",
        "fig.show()\n"
      ]
    },
    {
      "cell_type": "code",
      "execution_count": null,
      "metadata": {
        "id": "zVIBKDveYTNc"
      },
      "outputs": [],
      "source": []
    }
  ],
  "metadata": {
    "colab": {
      "provenance": []
    },
    "kernelspec": {
      "display_name": "Python 3",
      "name": "python3"
    },
    "language_info": {
      "name": "python"
    }
  },
  "nbformat": 4,
  "nbformat_minor": 0
}
